{
 "cells": [
  {
   "cell_type": "code",
   "execution_count": 1,
   "id": "709fddae",
   "metadata": {},
   "outputs": [],
   "source": [
    "import wikipediaapi"
   ]
  },
  {
   "cell_type": "code",
   "execution_count": 2,
   "id": "3c289318",
   "metadata": {},
   "outputs": [],
   "source": [
    "import wikipedia\n",
    "import warnings\n",
    "warnings.filterwarnings(action=\"ignore\")\n"
   ]
  },
  {
   "cell_type": "code",
   "execution_count": 3,
   "id": "25293af6",
   "metadata": {},
   "outputs": [],
   "source": [
    "wiki_wiki = wikipediaapi.Wikipedia(\n",
    "        language='en',\n",
    "        extract_format=wikipediaapi.ExtractFormat.WIKI\n",
    ")"
   ]
  },
  {
   "cell_type": "code",
   "execution_count": null,
   "id": "51897a32",
   "metadata": {},
   "outputs": [],
   "source": [
    "fmathematics={}\n",
    "for items in wikipedia.search('Mathematics', results=500):\n",
    "         fmathematics[items]= wiki_wiki.page(items).text"
   ]
  },
  {
   "cell_type": "code",
   "execution_count": 5,
   "id": "b3f96f4a",
   "metadata": {},
   "outputs": [],
   "source": [
    "fpolitics={}\n",
    "for items in wikipedia.search('Politics', results=500):\n",
    "         fpolitics[items]= wiki_wiki.page(items).text"
   ]
  },
  {
   "cell_type": "code",
   "execution_count": 6,
   "id": "aa37daa7",
   "metadata": {},
   "outputs": [],
   "source": [
    "fsports={}\n",
    "for items in wikipedia.search('sports', results=500):\n",
    "         fsports[items]= wiki_wiki.page(items).text"
   ]
  },
  {
   "cell_type": "code",
   "execution_count": 7,
   "id": "4d83c735",
   "metadata": {},
   "outputs": [],
   "source": [
    "fhealth={}\n",
    "for items in wikipedia.search('health', results=500):\n",
    "         fhealth[items]= wiki_wiki.page(items).text"
   ]
  },
  {
   "cell_type": "code",
   "execution_count": 8,
   "id": "36ef8815",
   "metadata": {},
   "outputs": [],
   "source": [
    "fhistory={}\n",
    "for items in wikipedia.search('news', results=500):\n",
    "         fhistory[items]= wiki_wiki.page(items).text"
   ]
  },
  {
   "cell_type": "code",
   "execution_count": 9,
   "id": "22e7e09d",
   "metadata": {},
   "outputs": [],
   "source": [
    "fgeography={}\n",
    "for items in wikipedia.search('geography', results=500):\n",
    "         fgeography[items]= wiki_wiki.page(items).text"
   ]
  },
  {
   "cell_type": "code",
   "execution_count": 10,
   "id": "7e2c2252",
   "metadata": {},
   "outputs": [],
   "source": [
    "farts={}\n",
    "for items in wikipedia.search('arts', results=500):\n",
    "         farts[items]= wiki_wiki.page(items).text"
   ]
  },
  {
   "cell_type": "code",
   "execution_count": 11,
   "id": "e6ae2e69",
   "metadata": {},
   "outputs": [],
   "source": [
    "ftechnology={}\n",
    "for items in wikipedia.search('technology', results=500):\n",
    "         ftechnology[items]= wiki_wiki.page(items).text"
   ]
  },
  {
   "cell_type": "code",
   "execution_count": 14,
   "id": "d37f8fd3",
   "metadata": {},
   "outputs": [],
   "source": [
    "import pandas as pd\n",
    "\n",
    "data1=pd.DataFrame.from_dict(fmathematics,orient='index')\n",
    "data2=pd.DataFrame.from_dict(fpolitics,orient='index')\n",
    "data3=pd.DataFrame.from_dict(fsports,orient='index')\n",
    "data4=pd.DataFrame.from_dict(fhealth,orient='index')\n",
    "data5=pd.DataFrame.from_dict(fhistory,orient='index')\n",
    "data6=pd.DataFrame.from_dict(fgeography,orient='index')\n",
    "data7=pd.DataFrame.from_dict(farts,orient='index')\n",
    "data8=pd.DataFrame.from_dict(ftechnology,orient='index')\n"
   ]
  },
  {
   "cell_type": "code",
   "execution_count": 15,
   "id": "9a8a54c0",
   "metadata": {},
   "outputs": [],
   "source": [
    "data1=pd.DataFrame(fmathematics.items(), columns=['Category', 'Page Text'])"
   ]
  },
  {
   "cell_type": "code",
   "execution_count": 16,
   "id": "d3bb5381",
   "metadata": {},
   "outputs": [],
   "source": [
    "data2=pd.DataFrame(fpolitics.items(), columns=['Category', 'Page Text'])\n",
    "data3=pd.DataFrame(fsports.items(), columns=['Category', 'Page Text'])\n",
    "data4=pd.DataFrame(fhealth.items(), columns=['Category', 'Page Text'])\n",
    "data5=pd.DataFrame(fhistory.items(), columns=['Category', 'Page Text'])\n",
    "data6=pd.DataFrame(fgeography.items(), columns=['Category', 'Page Text'])\n",
    "data7=pd.DataFrame(farts.items(), columns=['Category', 'Page Text'])\n",
    "data8=pd.DataFrame(ftechnology.items(), columns=['Category', 'Page Text'])\n",
    "\n"
   ]
  },
  {
   "cell_type": "code",
   "execution_count": 17,
   "id": "f40a2eb2",
   "metadata": {},
   "outputs": [
    {
     "data": {
      "text/html": [
       "<div>\n",
       "<style scoped>\n",
       "    .dataframe tbody tr th:only-of-type {\n",
       "        vertical-align: middle;\n",
       "    }\n",
       "\n",
       "    .dataframe tbody tr th {\n",
       "        vertical-align: top;\n",
       "    }\n",
       "\n",
       "    .dataframe thead th {\n",
       "        text-align: right;\n",
       "    }\n",
       "</style>\n",
       "<table border=\"1\" class=\"dataframe\">\n",
       "  <thead>\n",
       "    <tr style=\"text-align: right;\">\n",
       "      <th></th>\n",
       "      <th>Category</th>\n",
       "      <th>Page Text</th>\n",
       "    </tr>\n",
       "  </thead>\n",
       "  <tbody>\n",
       "    <tr>\n",
       "      <th>0</th>\n",
       "      <td>Mathematics</td>\n",
       "      <td>Mathematics (from Ancient Greek  μάθημα (máthē...</td>\n",
       "    </tr>\n",
       "    <tr>\n",
       "      <th>1</th>\n",
       "      <td>Function (mathematics)</td>\n",
       "      <td>In mathematics, a function from a set X to a s...</td>\n",
       "    </tr>\n",
       "    <tr>\n",
       "      <th>2</th>\n",
       "      <td>Applied mathematics</td>\n",
       "      <td>Applied mathematics is the application of math...</td>\n",
       "    </tr>\n",
       "    <tr>\n",
       "      <th>3</th>\n",
       "      <td>Matrix (mathematics)</td>\n",
       "      <td>In mathematics, a matrix (plural matrices) is ...</td>\n",
       "    </tr>\n",
       "    <tr>\n",
       "      <th>4</th>\n",
       "      <td>Discrete mathematics</td>\n",
       "      <td>Discrete mathematics is the study of mathemati...</td>\n",
       "    </tr>\n",
       "    <tr>\n",
       "      <th>...</th>\n",
       "      <td>...</td>\n",
       "      <td>...</td>\n",
       "    </tr>\n",
       "    <tr>\n",
       "      <th>495</th>\n",
       "      <td>Property (mathematics)</td>\n",
       "      <td>In mathematics, a property is any characterist...</td>\n",
       "    </tr>\n",
       "    <tr>\n",
       "      <th>496</th>\n",
       "      <td>Computer algebra</td>\n",
       "      <td>In mathematics and computer science, computer ...</td>\n",
       "    </tr>\n",
       "    <tr>\n",
       "      <th>497</th>\n",
       "      <td>Maya numerals</td>\n",
       "      <td>The Mayan numeral system was the system to rep...</td>\n",
       "    </tr>\n",
       "    <tr>\n",
       "      <th>498</th>\n",
       "      <td>Carl Gustav Jacob Jacobi</td>\n",
       "      <td>Carl Gustav Jacob Jacobi (; German: [jaˈkoːbi]...</td>\n",
       "    </tr>\n",
       "    <tr>\n",
       "      <th>499</th>\n",
       "      <td>Monopole (mathematics)</td>\n",
       "      <td>In mathematics, a monopole is a connection ove...</td>\n",
       "    </tr>\n",
       "  </tbody>\n",
       "</table>\n",
       "<p>500 rows × 2 columns</p>\n",
       "</div>"
      ],
      "text/plain": [
       "                     Category  \\\n",
       "0                 Mathematics   \n",
       "1      Function (mathematics)   \n",
       "2         Applied mathematics   \n",
       "3        Matrix (mathematics)   \n",
       "4        Discrete mathematics   \n",
       "..                        ...   \n",
       "495    Property (mathematics)   \n",
       "496          Computer algebra   \n",
       "497             Maya numerals   \n",
       "498  Carl Gustav Jacob Jacobi   \n",
       "499    Monopole (mathematics)   \n",
       "\n",
       "                                             Page Text  \n",
       "0    Mathematics (from Ancient Greek  μάθημα (máthē...  \n",
       "1    In mathematics, a function from a set X to a s...  \n",
       "2    Applied mathematics is the application of math...  \n",
       "3    In mathematics, a matrix (plural matrices) is ...  \n",
       "4    Discrete mathematics is the study of mathemati...  \n",
       "..                                                 ...  \n",
       "495  In mathematics, a property is any characterist...  \n",
       "496  In mathematics and computer science, computer ...  \n",
       "497  The Mayan numeral system was the system to rep...  \n",
       "498  Carl Gustav Jacob Jacobi (; German: [jaˈkoːbi]...  \n",
       "499  In mathematics, a monopole is a connection ove...  \n",
       "\n",
       "[500 rows x 2 columns]"
      ]
     },
     "execution_count": 17,
     "metadata": {},
     "output_type": "execute_result"
    }
   ],
   "source": [
    "data1"
   ]
  },
  {
   "cell_type": "code",
   "execution_count": 18,
   "id": "4c1f1a26",
   "metadata": {},
   "outputs": [],
   "source": [
    "data1 = data1.assign(Category='Mathematics')"
   ]
  },
  {
   "cell_type": "code",
   "execution_count": 19,
   "id": "d70ac838",
   "metadata": {},
   "outputs": [],
   "source": [
    "data2 = data2.assign(Category='Politics')\n",
    "data3 = data3.assign(Category='Sports')\n",
    "data4 = data4.assign(Category='Health')\n",
    "data5 = data5.assign(Category='History')\n",
    "data6 = data6.assign(Category='Geography')\n",
    "data7 = data7.assign(Category='Arts')\n",
    "data8 = data8.assign(Category='Technology')\n",
    "\n"
   ]
  },
  {
   "cell_type": "code",
   "execution_count": 20,
   "id": "b25a81cb",
   "metadata": {},
   "outputs": [
    {
     "data": {
      "text/html": [
       "<div>\n",
       "<style scoped>\n",
       "    .dataframe tbody tr th:only-of-type {\n",
       "        vertical-align: middle;\n",
       "    }\n",
       "\n",
       "    .dataframe tbody tr th {\n",
       "        vertical-align: top;\n",
       "    }\n",
       "\n",
       "    .dataframe thead th {\n",
       "        text-align: right;\n",
       "    }\n",
       "</style>\n",
       "<table border=\"1\" class=\"dataframe\">\n",
       "  <thead>\n",
       "    <tr style=\"text-align: right;\">\n",
       "      <th></th>\n",
       "      <th>Category</th>\n",
       "      <th>Page Text</th>\n",
       "    </tr>\n",
       "  </thead>\n",
       "  <tbody>\n",
       "    <tr>\n",
       "      <th>0</th>\n",
       "      <td>Mathematics</td>\n",
       "      <td>Mathematics (from Ancient Greek  μάθημα (máthē...</td>\n",
       "    </tr>\n",
       "    <tr>\n",
       "      <th>1</th>\n",
       "      <td>Mathematics</td>\n",
       "      <td>In mathematics, a function from a set X to a s...</td>\n",
       "    </tr>\n",
       "    <tr>\n",
       "      <th>2</th>\n",
       "      <td>Mathematics</td>\n",
       "      <td>Applied mathematics is the application of math...</td>\n",
       "    </tr>\n",
       "    <tr>\n",
       "      <th>3</th>\n",
       "      <td>Mathematics</td>\n",
       "      <td>In mathematics, a matrix (plural matrices) is ...</td>\n",
       "    </tr>\n",
       "    <tr>\n",
       "      <th>4</th>\n",
       "      <td>Mathematics</td>\n",
       "      <td>Discrete mathematics is the study of mathemati...</td>\n",
       "    </tr>\n",
       "    <tr>\n",
       "      <th>...</th>\n",
       "      <td>...</td>\n",
       "      <td>...</td>\n",
       "    </tr>\n",
       "    <tr>\n",
       "      <th>495</th>\n",
       "      <td>Mathematics</td>\n",
       "      <td>In mathematics, a property is any characterist...</td>\n",
       "    </tr>\n",
       "    <tr>\n",
       "      <th>496</th>\n",
       "      <td>Mathematics</td>\n",
       "      <td>In mathematics and computer science, computer ...</td>\n",
       "    </tr>\n",
       "    <tr>\n",
       "      <th>497</th>\n",
       "      <td>Mathematics</td>\n",
       "      <td>The Mayan numeral system was the system to rep...</td>\n",
       "    </tr>\n",
       "    <tr>\n",
       "      <th>498</th>\n",
       "      <td>Mathematics</td>\n",
       "      <td>Carl Gustav Jacob Jacobi (; German: [jaˈkoːbi]...</td>\n",
       "    </tr>\n",
       "    <tr>\n",
       "      <th>499</th>\n",
       "      <td>Mathematics</td>\n",
       "      <td>In mathematics, a monopole is a connection ove...</td>\n",
       "    </tr>\n",
       "  </tbody>\n",
       "</table>\n",
       "<p>500 rows × 2 columns</p>\n",
       "</div>"
      ],
      "text/plain": [
       "        Category                                          Page Text\n",
       "0    Mathematics  Mathematics (from Ancient Greek  μάθημα (máthē...\n",
       "1    Mathematics  In mathematics, a function from a set X to a s...\n",
       "2    Mathematics  Applied mathematics is the application of math...\n",
       "3    Mathematics  In mathematics, a matrix (plural matrices) is ...\n",
       "4    Mathematics  Discrete mathematics is the study of mathemati...\n",
       "..           ...                                                ...\n",
       "495  Mathematics  In mathematics, a property is any characterist...\n",
       "496  Mathematics  In mathematics and computer science, computer ...\n",
       "497  Mathematics  The Mayan numeral system was the system to rep...\n",
       "498  Mathematics  Carl Gustav Jacob Jacobi (; German: [jaˈkoːbi]...\n",
       "499  Mathematics  In mathematics, a monopole is a connection ove...\n",
       "\n",
       "[500 rows x 2 columns]"
      ]
     },
     "execution_count": 20,
     "metadata": {},
     "output_type": "execute_result"
    }
   ],
   "source": [
    "data1\n"
   ]
  },
  {
   "cell_type": "code",
   "execution_count": 21,
   "id": "c8c2fe4c",
   "metadata": {},
   "outputs": [],
   "source": [
    "frames = [data1, data2, data3, data4, data5, data6, data7, data8]"
   ]
  },
  {
   "cell_type": "code",
   "execution_count": 22,
   "id": "64d86d7e",
   "metadata": {},
   "outputs": [],
   "source": [
    "fdata = pd.concat(frames,ignore_index=True)"
   ]
  },
  {
   "cell_type": "code",
   "execution_count": 23,
   "id": "62783f9d",
   "metadata": {},
   "outputs": [
    {
     "data": {
      "text/plain": [
       "5000"
      ]
     },
     "execution_count": 23,
     "metadata": {},
     "output_type": "execute_result"
    }
   ],
   "source": [
    "fdata.shape[0]"
   ]
  },
  {
   "cell_type": "code",
   "execution_count": 24,
   "id": "e53a7016",
   "metadata": {},
   "outputs": [
    {
     "data": {
      "text/html": [
       "<div>\n",
       "<style scoped>\n",
       "    .dataframe tbody tr th:only-of-type {\n",
       "        vertical-align: middle;\n",
       "    }\n",
       "\n",
       "    .dataframe tbody tr th {\n",
       "        vertical-align: top;\n",
       "    }\n",
       "\n",
       "    .dataframe thead th {\n",
       "        text-align: right;\n",
       "    }\n",
       "</style>\n",
       "<table border=\"1\" class=\"dataframe\">\n",
       "  <thead>\n",
       "    <tr style=\"text-align: right;\">\n",
       "      <th></th>\n",
       "      <th>Category</th>\n",
       "      <th>Page Text</th>\n",
       "    </tr>\n",
       "  </thead>\n",
       "  <tbody>\n",
       "    <tr>\n",
       "      <th>0</th>\n",
       "      <td>Mathematics</td>\n",
       "      <td>Mathematics (from Ancient Greek  μάθημα (máthē...</td>\n",
       "    </tr>\n",
       "    <tr>\n",
       "      <th>1</th>\n",
       "      <td>Mathematics</td>\n",
       "      <td>In mathematics, a function from a set X to a s...</td>\n",
       "    </tr>\n",
       "    <tr>\n",
       "      <th>2</th>\n",
       "      <td>Mathematics</td>\n",
       "      <td>Applied mathematics is the application of math...</td>\n",
       "    </tr>\n",
       "    <tr>\n",
       "      <th>3</th>\n",
       "      <td>Mathematics</td>\n",
       "      <td>In mathematics, a matrix (plural matrices) is ...</td>\n",
       "    </tr>\n",
       "    <tr>\n",
       "      <th>4</th>\n",
       "      <td>Mathematics</td>\n",
       "      <td>Discrete mathematics is the study of mathemati...</td>\n",
       "    </tr>\n",
       "    <tr>\n",
       "      <th>...</th>\n",
       "      <td>...</td>\n",
       "      <td>...</td>\n",
       "    </tr>\n",
       "    <tr>\n",
       "      <th>4995</th>\n",
       "      <td>Transport</td>\n",
       "      <td>Military transport aircraft include load-carry...</td>\n",
       "    </tr>\n",
       "    <tr>\n",
       "      <th>4996</th>\n",
       "      <td>Transport</td>\n",
       "      <td>An intermodal container, often called a shippi...</td>\n",
       "    </tr>\n",
       "    <tr>\n",
       "      <th>4997</th>\n",
       "      <td>Transport</td>\n",
       "      <td>The Korean People's Army Air and Anti-Air Forc...</td>\n",
       "    </tr>\n",
       "    <tr>\n",
       "      <th>4998</th>\n",
       "      <td>Transport</td>\n",
       "      <td>Transport in Norway is highly influenced by No...</td>\n",
       "    </tr>\n",
       "    <tr>\n",
       "      <th>4999</th>\n",
       "      <td>Transport</td>\n",
       "      <td>PJSC Aeroflot – Russian Airlines (Russian: ПАО...</td>\n",
       "    </tr>\n",
       "  </tbody>\n",
       "</table>\n",
       "<p>5000 rows × 2 columns</p>\n",
       "</div>"
      ],
      "text/plain": [
       "         Category                                          Page Text\n",
       "0     Mathematics  Mathematics (from Ancient Greek  μάθημα (máthē...\n",
       "1     Mathematics  In mathematics, a function from a set X to a s...\n",
       "2     Mathematics  Applied mathematics is the application of math...\n",
       "3     Mathematics  In mathematics, a matrix (plural matrices) is ...\n",
       "4     Mathematics  Discrete mathematics is the study of mathemati...\n",
       "...           ...                                                ...\n",
       "4995    Transport  Military transport aircraft include load-carry...\n",
       "4996    Transport  An intermodal container, often called a shippi...\n",
       "4997    Transport  The Korean People's Army Air and Anti-Air Forc...\n",
       "4998    Transport  Transport in Norway is highly influenced by No...\n",
       "4999    Transport  PJSC Aeroflot – Russian Airlines (Russian: ПАО...\n",
       "\n",
       "[5000 rows x 2 columns]"
      ]
     },
     "execution_count": 24,
     "metadata": {},
     "output_type": "execute_result"
    }
   ],
   "source": [
    "fdata"
   ]
  },
  {
   "cell_type": "code",
   "execution_count": 25,
   "id": "f3a4e3b3",
   "metadata": {},
   "outputs": [],
   "source": [
    "fdata.to_csv('wikidata.csv',index= 'False',encoding='utf-8')"
   ]
  },
  {
   "cell_type": "code",
   "execution_count": 26,
   "id": "4a853192",
   "metadata": {},
   "outputs": [
    {
     "data": {
      "text/plain": [
       "'Mathematics is a field of knowledge.\\nMathematics may also refer to:\\n\\nMusic\\nMathematics (album), a 1985 album by Melissa Manchester\\n\"Mathematics\" (Cherry Ghost song), a song by Cherry Ghost\\n\"Mathematics\" (Mos Def song), a song by Mos Def\\nMathematics, an EP by The Servant\\n\"Mathematics\", a song by bbno$\\n\"Mathematics\", a song by Little Boots from Hands\\n\"Mathematics\", a song by Macintosh Plus from Floral Shoppe\\n\\nOther uses\\nMathematics (producer), a hip hop producer\\nMathematics (UIL), an American student mathematics competition\\nMicrosoft Mathematics, an educational program designed for Microsoft Windows\\nMathematics Magazine, a publication of the Mathematical Association of America\\n\\nSee also\\nMath (disambiguation)\\nMathematica (disambiguation)\\nCategory:Mathematics\\nPortal:Mathematics'"
      ]
     },
     "execution_count": 26,
     "metadata": {},
     "output_type": "execute_result"
    }
   ],
   "source": [
    "fdata.loc[5,'Page Text']"
   ]
  },
  {
   "cell_type": "code",
   "execution_count": 27,
   "id": "845e5194",
   "metadata": {},
   "outputs": [],
   "source": [
    "import pandas as pd\n",
    "df = pd.read_csv('wikidata.csv')"
   ]
  },
  {
   "cell_type": "code",
   "execution_count": 28,
   "id": "7849d3db",
   "metadata": {},
   "outputs": [
    {
     "name": "stdout",
     "output_type": "stream",
     "text": [
      "<class 'pandas.core.frame.DataFrame'>\n",
      "RangeIndex: 5000 entries, 0 to 4999\n",
      "Data columns (total 3 columns):\n",
      " #   Column      Non-Null Count  Dtype \n",
      "---  ------      --------------  ----- \n",
      " 0   Unnamed: 0  5000 non-null   int64 \n",
      " 1   Category    5000 non-null   object\n",
      " 2   Page Text   5000 non-null   object\n",
      "dtypes: int64(1), object(2)\n",
      "memory usage: 117.3+ KB\n"
     ]
    }
   ],
   "source": [
    "df.info()"
   ]
  },
  {
   "cell_type": "code",
   "execution_count": 29,
   "id": "72da93c0",
   "metadata": {},
   "outputs": [
    {
     "data": {
      "text/plain": [
       "<AxesSubplot:ylabel='Category'>"
      ]
     },
     "execution_count": 29,
     "metadata": {},
     "output_type": "execute_result"
    },
    {
     "data": {
      "image/png": "[encoded data removed]",
      "text/plain": [
       "<Figure size 576x288 with 1 Axes>"
      ]
     },
     "metadata": {
      "needs_background": "light"
     },
     "output_type": "display_data"
    }
   ],
   "source": [
    "import matplotlib.pyplot as plt\n",
    "import seaborn as sns\n",
    "\n",
    "plt.figure(figsize=(8,4))\n",
    "sns.barplot(df['Category'].value_counts().index, df['Category'].value_counts())"
   ]
  },
  {
   "cell_type": "code",
   "execution_count": 30,
   "id": "e747bbdd",
   "metadata": {},
   "outputs": [
    {
     "data": {
      "text/html": [
       "<div>\n",
       "<style scoped>\n",
       "    .dataframe tbody tr th:only-of-type {\n",
       "        vertical-align: middle;\n",
       "    }\n",
       "\n",
       "    .dataframe tbody tr th {\n",
       "        vertical-align: top;\n",
       "    }\n",
       "\n",
       "    .dataframe thead th {\n",
       "        text-align: right;\n",
       "    }\n",
       "</style>\n",
       "<table border=\"1\" class=\"dataframe\">\n",
       "  <thead>\n",
       "    <tr style=\"text-align: right;\">\n",
       "      <th></th>\n",
       "      <th>Unnamed: 0</th>\n",
       "      <th>Category</th>\n",
       "      <th>Page Text</th>\n",
       "    </tr>\n",
       "  </thead>\n",
       "  <tbody>\n",
       "    <tr>\n",
       "      <th>0</th>\n",
       "      <td>0</td>\n",
       "      <td>5</td>\n",
       "      <td>Mathematics (from Ancient Greek  μάθημα (máthē...</td>\n",
       "    </tr>\n",
       "    <tr>\n",
       "      <th>1</th>\n",
       "      <td>1</td>\n",
       "      <td>5</td>\n",
       "      <td>In mathematics, a function from a set X to a s...</td>\n",
       "    </tr>\n",
       "    <tr>\n",
       "      <th>2</th>\n",
       "      <td>2</td>\n",
       "      <td>5</td>\n",
       "      <td>Applied mathematics is the application of math...</td>\n",
       "    </tr>\n",
       "    <tr>\n",
       "      <th>3</th>\n",
       "      <td>3</td>\n",
       "      <td>5</td>\n",
       "      <td>In mathematics, a matrix (plural matrices) is ...</td>\n",
       "    </tr>\n",
       "    <tr>\n",
       "      <th>4</th>\n",
       "      <td>4</td>\n",
       "      <td>5</td>\n",
       "      <td>Discrete mathematics is the study of mathemati...</td>\n",
       "    </tr>\n",
       "  </tbody>\n",
       "</table>\n",
       "</div>"
      ],
      "text/plain": [
       "   Unnamed: 0  Category                                          Page Text\n",
       "0           0         5  Mathematics (from Ancient Greek  μάθημα (máthē...\n",
       "1           1         5  In mathematics, a function from a set X to a s...\n",
       "2           2         5  Applied mathematics is the application of math...\n",
       "3           3         5  In mathematics, a matrix (plural matrices) is ...\n",
       "4           4         5  Discrete mathematics is the study of mathemati..."
      ]
     },
     "execution_count": 30,
     "metadata": {},
     "output_type": "execute_result"
    }
   ],
   "source": [
    "from sklearn.preprocessing import LabelEncoder\n",
    "le=LabelEncoder()\n",
    "df['Category']=le.fit_transform(df['Category'])\n",
    "df.head()"
   ]
  },
  {
   "cell_type": "code",
   "execution_count": 31,
   "id": "73f3011d",
   "metadata": {},
   "outputs": [],
   "source": [
    "df = df.iloc[: , 1:]"
   ]
  },
  {
   "cell_type": "code",
   "execution_count": 32,
   "id": "76d36d71",
   "metadata": {},
   "outputs": [
    {
     "name": "stdout",
     "output_type": "stream",
     "text": [
      "X -- (5000, 1) \n",
      "y -- (5000,)\n"
     ]
    }
   ],
   "source": [
    "X = df.drop(['Category'], axis=1)\n",
    "y = df['Category']\n",
    "print(\"X --\", X.shape, \"\\ny --\", y.shape)"
   ]
  },
  {
   "cell_type": "code",
   "execution_count": 33,
   "id": "5c49e4c2",
   "metadata": {},
   "outputs": [
    {
     "name": "stdout",
     "output_type": "stream",
     "text": [
      "train_X shape:  (3400, 1)\n",
      "train_y shape:  (3400,)\n",
      "val_X shape:  (600, 1)\n",
      "val_y shape:  (600,)\n",
      "test_X shape:  (1000, 1)\n",
      "test_y shape:  (1000,)\n"
     ]
    }
   ],
   "source": [
    "from sklearn.model_selection import train_test_split\n",
    "X_train, test_X, y_train, test_y = train_test_split(X,y,test_size=0.2,random_state=42, stratify=y)\n",
    "\n",
    "train_X, val_X, train_y, val_y = train_test_split(X_train,y_train,test_size=0.15,random_state=0, stratify=y_train)\n",
    "\n",
    "print(\"train_X shape: \", train_X.shape)\n",
    "print(\"train_y shape: \", train_y.shape)\n",
    "print(\"val_X shape: \", val_X.shape)\n",
    "print(\"val_y shape: \", val_y.shape)\n",
    "print(\"test_X shape: \", test_X.shape)\n",
    "print(\"test_y shape: \", test_y.shape)"
   ]
  },
  {
   "cell_type": "code",
   "execution_count": 34,
   "id": "bf6cbbb1",
   "metadata": {},
   "outputs": [
    {
     "data": {
      "text/html": [
       "<div>\n",
       "<style scoped>\n",
       "    .dataframe tbody tr th:only-of-type {\n",
       "        vertical-align: middle;\n",
       "    }\n",
       "\n",
       "    .dataframe tbody tr th {\n",
       "        vertical-align: top;\n",
       "    }\n",
       "\n",
       "    .dataframe thead th {\n",
       "        text-align: right;\n",
       "    }\n",
       "</style>\n",
       "<table border=\"1\" class=\"dataframe\">\n",
       "  <thead>\n",
       "    <tr style=\"text-align: right;\">\n",
       "      <th></th>\n",
       "      <th>Page Text</th>\n",
       "      <th>text</th>\n",
       "    </tr>\n",
       "  </thead>\n",
       "  <tbody>\n",
       "    <tr>\n",
       "      <th>1855</th>\n",
       "      <td>Medical tourism refers to people traveling abr...</td>\n",
       "      <td>medical tourism refers to people traveling abr...</td>\n",
       "    </tr>\n",
       "    <tr>\n",
       "      <th>4399</th>\n",
       "      <td>Natural science is one of the branches of scie...</td>\n",
       "      <td>natural science is one of the branches of scie...</td>\n",
       "    </tr>\n",
       "    <tr>\n",
       "      <th>2414</th>\n",
       "      <td>Showa: A History of Japan, known in Japan as C...</td>\n",
       "      <td>showa: a history of japan, known in japan as c...</td>\n",
       "    </tr>\n",
       "    <tr>\n",
       "      <th>3179</th>\n",
       "      <td>In the arts, Idealism encourages imagination a...</td>\n",
       "      <td>in the arts, idealism encourages imagination a...</td>\n",
       "    </tr>\n",
       "    <tr>\n",
       "      <th>3159</th>\n",
       "      <td>Forensic art is any art used in law enforcemen...</td>\n",
       "      <td>forensic art is any art used in law enforcemen...</td>\n",
       "    </tr>\n",
       "  </tbody>\n",
       "</table>\n",
       "</div>"
      ],
      "text/plain": [
       "                                              Page Text  \\\n",
       "1855  Medical tourism refers to people traveling abr...   \n",
       "4399  Natural science is one of the branches of scie...   \n",
       "2414  Showa: A History of Japan, known in Japan as C...   \n",
       "3179  In the arts, Idealism encourages imagination a...   \n",
       "3159  Forensic art is any art used in law enforcemen...   \n",
       "\n",
       "                                                   text  \n",
       "1855  medical tourism refers to people traveling abr...  \n",
       "4399  natural science is one of the branches of scie...  \n",
       "2414  showa: a history of japan, known in japan as c...  \n",
       "3179  in the arts, idealism encourages imagination a...  \n",
       "3159  forensic art is any art used in law enforcemen...  "
      ]
     },
     "execution_count": 34,
     "metadata": {},
     "output_type": "execute_result"
    }
   ],
   "source": [
    "train_X['text'] = train_X['Page Text'].str.lower()\n",
    "train_X.head()"
   ]
  },
  {
   "cell_type": "code",
   "execution_count": 35,
   "id": "eb7e3792",
   "metadata": {},
   "outputs": [
    {
     "name": "stdout",
     "output_type": "stream",
     "text": [
      "i; me; my; myself; we; our; ours; ourselves; you; you're; you've; you'll; you'd; your; yours; yourself; yourselves; he; him; his; himself; she; she's; her; hers; herself; it; it's; its; itself; they; them; their; theirs; themselves; what; which; who; whom; this; that; that'll; these; those; am; is; are; was; were; be; been; being; have; has; had; having; do; does; did; doing; a; an; the; and; but; if; or; because; as; until; while; of; at; by; for; with; about; against; between; into; through; during; before; after; above; below; to; from; up; down; in; out; on; off; over; under; again; further; then; once; here; there; when; where; why; how; all; any; both; each; few; more; most; other; some; such; no; nor; not; only; own; same; so; than; too; very; s; t; can; will; just; don; don't; should; should've; now; d; ll; m; o; re; ve; y; ain; aren; aren't; couldn; couldn't; didn; didn't; doesn; doesn't; hadn; hadn't; hasn; hasn't; haven; haven't; isn; isn't; ma; mightn; mightn't; mustn; mustn't; needn; needn't; shan; shan't; shouldn; shouldn't; wasn; wasn't; weren; weren't; won; won't; wouldn; wouldn't\n"
     ]
    }
   ],
   "source": [
    "from nltk.corpus import stopwords\n",
    "stopword = set(stopwords.words('english'))\n",
    "print(\"; \".join(stopwords.words('english')))"
   ]
  },
  {
   "cell_type": "code",
   "execution_count": 36,
   "id": "e22024a5",
   "metadata": {},
   "outputs": [
    {
     "data": {
      "text/html": [
       "<div>\n",
       "<style scoped>\n",
       "    .dataframe tbody tr th:only-of-type {\n",
       "        vertical-align: middle;\n",
       "    }\n",
       "\n",
       "    .dataframe tbody tr th {\n",
       "        vertical-align: top;\n",
       "    }\n",
       "\n",
       "    .dataframe thead th {\n",
       "        text-align: right;\n",
       "    }\n",
       "</style>\n",
       "<table border=\"1\" class=\"dataframe\">\n",
       "  <thead>\n",
       "    <tr style=\"text-align: right;\">\n",
       "      <th></th>\n",
       "      <th>Page Text</th>\n",
       "      <th>text</th>\n",
       "      <th>text11</th>\n",
       "    </tr>\n",
       "  </thead>\n",
       "  <tbody>\n",
       "    <tr>\n",
       "      <th>1855</th>\n",
       "      <td>Medical tourism refers to people traveling abr...</td>\n",
       "      <td>medical tourism refers to people traveling abr...</td>\n",
       "      <td>medical tourism refers people traveling abroad...</td>\n",
       "    </tr>\n",
       "    <tr>\n",
       "      <th>4399</th>\n",
       "      <td>Natural science is one of the branches of scie...</td>\n",
       "      <td>natural science is one of the branches of scie...</td>\n",
       "      <td>natural science one branches science concerned...</td>\n",
       "    </tr>\n",
       "    <tr>\n",
       "      <th>2414</th>\n",
       "      <td>Showa: A History of Japan, known in Japan as C...</td>\n",
       "      <td>showa: a history of japan, known in japan as c...</td>\n",
       "      <td>showa: history japan, known japan comic showa-...</td>\n",
       "    </tr>\n",
       "    <tr>\n",
       "      <th>3179</th>\n",
       "      <td>In the arts, Idealism encourages imagination a...</td>\n",
       "      <td>in the arts, idealism encourages imagination a...</td>\n",
       "      <td>arts, idealism encourages imagination attempts...</td>\n",
       "    </tr>\n",
       "    <tr>\n",
       "      <th>3159</th>\n",
       "      <td>Forensic art is any art used in law enforcemen...</td>\n",
       "      <td>forensic art is any art used in law enforcemen...</td>\n",
       "      <td>forensic art art used law enforcement legal pr...</td>\n",
       "    </tr>\n",
       "  </tbody>\n",
       "</table>\n",
       "</div>"
      ],
      "text/plain": [
       "                                              Page Text  \\\n",
       "1855  Medical tourism refers to people traveling abr...   \n",
       "4399  Natural science is one of the branches of scie...   \n",
       "2414  Showa: A History of Japan, known in Japan as C...   \n",
       "3179  In the arts, Idealism encourages imagination a...   \n",
       "3159  Forensic art is any art used in law enforcemen...   \n",
       "\n",
       "                                                   text  \\\n",
       "1855  medical tourism refers to people traveling abr...   \n",
       "4399  natural science is one of the branches of scie...   \n",
       "2414  showa: a history of japan, known in japan as c...   \n",
       "3179  in the arts, idealism encourages imagination a...   \n",
       "3159  forensic art is any art used in law enforcemen...   \n",
       "\n",
       "                                                 text11  \n",
       "1855  medical tourism refers people traveling abroad...  \n",
       "4399  natural science one branches science concerned...  \n",
       "2414  showa: history japan, known japan comic showa-...  \n",
       "3179  arts, idealism encourages imagination attempts...  \n",
       "3159  forensic art art used law enforcement legal pr...  "
      ]
     },
     "execution_count": 36,
     "metadata": {},
     "output_type": "execute_result"
    }
   ],
   "source": [
    "def remove_stopwords(text):\n",
    "    return \" \".join([word for word in str(text).split() if word not in stopword])\n",
    "\n",
    "train_X['text11'] = train_X['text'].apply(lambda text :remove_stopwords(text))\n",
    "train_X.head()"
   ]
  },
  {
   "cell_type": "code",
   "execution_count": 37,
   "id": "1f199353",
   "metadata": {},
   "outputs": [
    {
     "name": "stdout",
     "output_type": "stream",
     "text": [
      "!\"#$%&'()*+,-./:;<=>?@[\\]^_`{|}~\n"
     ]
    }
   ],
   "source": [
    "import numpy as np \n",
    "import pandas as pd \n",
    "import re\n",
    "import nltk\n",
    "import string\n",
    "punc_to_remove = string.punctuation\n",
    "print(punc_to_remove)"
   ]
  },
  {
   "cell_type": "code",
   "execution_count": 38,
   "id": "77ee6ecc",
   "metadata": {},
   "outputs": [
    {
     "data": {
      "text/html": [
       "<div>\n",
       "<style scoped>\n",
       "    .dataframe tbody tr th:only-of-type {\n",
       "        vertical-align: middle;\n",
       "    }\n",
       "\n",
       "    .dataframe tbody tr th {\n",
       "        vertical-align: top;\n",
       "    }\n",
       "\n",
       "    .dataframe thead th {\n",
       "        text-align: right;\n",
       "    }\n",
       "</style>\n",
       "<table border=\"1\" class=\"dataframe\">\n",
       "  <thead>\n",
       "    <tr style=\"text-align: right;\">\n",
       "      <th></th>\n",
       "      <th>Page Text</th>\n",
       "      <th>text</th>\n",
       "      <th>text11</th>\n",
       "      <th>text12</th>\n",
       "    </tr>\n",
       "  </thead>\n",
       "  <tbody>\n",
       "    <tr>\n",
       "      <th>1855</th>\n",
       "      <td>Medical tourism refers to people traveling abr...</td>\n",
       "      <td>medical tourism refers to people traveling abr...</td>\n",
       "      <td>medical tourism refers people traveling abroad...</td>\n",
       "      <td>medical tourism refers people traveling abroad...</td>\n",
       "    </tr>\n",
       "    <tr>\n",
       "      <th>4399</th>\n",
       "      <td>Natural science is one of the branches of scie...</td>\n",
       "      <td>natural science is one of the branches of scie...</td>\n",
       "      <td>natural science one branches science concerned...</td>\n",
       "      <td>natural science one branches science concerned...</td>\n",
       "    </tr>\n",
       "    <tr>\n",
       "      <th>2414</th>\n",
       "      <td>Showa: A History of Japan, known in Japan as C...</td>\n",
       "      <td>showa: a history of japan, known in japan as c...</td>\n",
       "      <td>showa: history japan, known japan comic showa-...</td>\n",
       "      <td>showa: history japan, known japan comic showa-...</td>\n",
       "    </tr>\n",
       "    <tr>\n",
       "      <th>3179</th>\n",
       "      <td>In the arts, Idealism encourages imagination a...</td>\n",
       "      <td>in the arts, idealism encourages imagination a...</td>\n",
       "      <td>arts, idealism encourages imagination attempts...</td>\n",
       "      <td>arts, idealism encourages imagination attempts...</td>\n",
       "    </tr>\n",
       "    <tr>\n",
       "      <th>3159</th>\n",
       "      <td>Forensic art is any art used in law enforcemen...</td>\n",
       "      <td>forensic art is any art used in law enforcemen...</td>\n",
       "      <td>forensic art art used law enforcement legal pr...</td>\n",
       "      <td>forensic art art used law enforcement legal pr...</td>\n",
       "    </tr>\n",
       "  </tbody>\n",
       "</table>\n",
       "</div>"
      ],
      "text/plain": [
       "                                              Page Text  \\\n",
       "1855  Medical tourism refers to people traveling abr...   \n",
       "4399  Natural science is one of the branches of scie...   \n",
       "2414  Showa: A History of Japan, known in Japan as C...   \n",
       "3179  In the arts, Idealism encourages imagination a...   \n",
       "3159  Forensic art is any art used in law enforcemen...   \n",
       "\n",
       "                                                   text  \\\n",
       "1855  medical tourism refers to people traveling abr...   \n",
       "4399  natural science is one of the branches of scie...   \n",
       "2414  showa: a history of japan, known in japan as c...   \n",
       "3179  in the arts, idealism encourages imagination a...   \n",
       "3159  forensic art is any art used in law enforcemen...   \n",
       "\n",
       "                                                 text11  \\\n",
       "1855  medical tourism refers people traveling abroad...   \n",
       "4399  natural science one branches science concerned...   \n",
       "2414  showa: history japan, known japan comic showa-...   \n",
       "3179  arts, idealism encourages imagination attempts...   \n",
       "3159  forensic art art used law enforcement legal pr...   \n",
       "\n",
       "                                                 text12  \n",
       "1855  medical tourism refers people traveling abroad...  \n",
       "4399  natural science one branches science concerned...  \n",
       "2414  showa: history japan, known japan comic showa-...  \n",
       "3179  arts, idealism encourages imagination attempts...  \n",
       "3159  forensic art art used law enforcement legal pr...  "
      ]
     },
     "execution_count": 38,
     "metadata": {},
     "output_type": "execute_result"
    }
   ],
   "source": [
    "def remove_urls(text):\n",
    "    url_pattern = re.compile(r'https?://\\S+|www\\.\\S+')\n",
    "    return url_pattern.sub(r'', text)\n",
    "\n",
    "train_X[\"text12\"] = train_X[\"text11\"].apply(lambda text: remove_urls(text))\n",
    "train_X.head()"
   ]
  },
  {
   "cell_type": "code",
   "execution_count": 39,
   "id": "e5d927db",
   "metadata": {},
   "outputs": [
    {
     "data": {
      "text/html": [
       "<div>\n",
       "<style scoped>\n",
       "    .dataframe tbody tr th:only-of-type {\n",
       "        vertical-align: middle;\n",
       "    }\n",
       "\n",
       "    .dataframe tbody tr th {\n",
       "        vertical-align: top;\n",
       "    }\n",
       "\n",
       "    .dataframe thead th {\n",
       "        text-align: right;\n",
       "    }\n",
       "</style>\n",
       "<table border=\"1\" class=\"dataframe\">\n",
       "  <thead>\n",
       "    <tr style=\"text-align: right;\">\n",
       "      <th></th>\n",
       "      <th>Page Text</th>\n",
       "      <th>text</th>\n",
       "      <th>text11</th>\n",
       "      <th>text12</th>\n",
       "      <th>text13</th>\n",
       "    </tr>\n",
       "  </thead>\n",
       "  <tbody>\n",
       "    <tr>\n",
       "      <th>1855</th>\n",
       "      <td>Medical tourism refers to people traveling abr...</td>\n",
       "      <td>medical tourism refers to people traveling abr...</td>\n",
       "      <td>medical tourism refers people traveling abroad...</td>\n",
       "      <td>medical tourism refers people traveling abroad...</td>\n",
       "      <td>medical tourism refers people traveling abroad...</td>\n",
       "    </tr>\n",
       "    <tr>\n",
       "      <th>4399</th>\n",
       "      <td>Natural science is one of the branches of scie...</td>\n",
       "      <td>natural science is one of the branches of scie...</td>\n",
       "      <td>natural science one branches science concerned...</td>\n",
       "      <td>natural science one branches science concerned...</td>\n",
       "      <td>natural science one branches science concerned...</td>\n",
       "    </tr>\n",
       "    <tr>\n",
       "      <th>2414</th>\n",
       "      <td>Showa: A History of Japan, known in Japan as C...</td>\n",
       "      <td>showa: a history of japan, known in japan as c...</td>\n",
       "      <td>showa: history japan, known japan comic showa-...</td>\n",
       "      <td>showa: history japan, known japan comic showa-...</td>\n",
       "      <td>showa history japan known japan comic showashi...</td>\n",
       "    </tr>\n",
       "    <tr>\n",
       "      <th>3179</th>\n",
       "      <td>In the arts, Idealism encourages imagination a...</td>\n",
       "      <td>in the arts, idealism encourages imagination a...</td>\n",
       "      <td>arts, idealism encourages imagination attempts...</td>\n",
       "      <td>arts, idealism encourages imagination attempts...</td>\n",
       "      <td>arts idealism encourages imagination attempts ...</td>\n",
       "    </tr>\n",
       "    <tr>\n",
       "      <th>3159</th>\n",
       "      <td>Forensic art is any art used in law enforcemen...</td>\n",
       "      <td>forensic art is any art used in law enforcemen...</td>\n",
       "      <td>forensic art art used law enforcement legal pr...</td>\n",
       "      <td>forensic art art used law enforcement legal pr...</td>\n",
       "      <td>forensic art art used law enforcement legal pr...</td>\n",
       "    </tr>\n",
       "  </tbody>\n",
       "</table>\n",
       "</div>"
      ],
      "text/plain": [
       "                                              Page Text  \\\n",
       "1855  Medical tourism refers to people traveling abr...   \n",
       "4399  Natural science is one of the branches of scie...   \n",
       "2414  Showa: A History of Japan, known in Japan as C...   \n",
       "3179  In the arts, Idealism encourages imagination a...   \n",
       "3159  Forensic art is any art used in law enforcemen...   \n",
       "\n",
       "                                                   text  \\\n",
       "1855  medical tourism refers to people traveling abr...   \n",
       "4399  natural science is one of the branches of scie...   \n",
       "2414  showa: a history of japan, known in japan as c...   \n",
       "3179  in the arts, idealism encourages imagination a...   \n",
       "3159  forensic art is any art used in law enforcemen...   \n",
       "\n",
       "                                                 text11  \\\n",
       "1855  medical tourism refers people traveling abroad...   \n",
       "4399  natural science one branches science concerned...   \n",
       "2414  showa: history japan, known japan comic showa-...   \n",
       "3179  arts, idealism encourages imagination attempts...   \n",
       "3159  forensic art art used law enforcement legal pr...   \n",
       "\n",
       "                                                 text12  \\\n",
       "1855  medical tourism refers people traveling abroad...   \n",
       "4399  natural science one branches science concerned...   \n",
       "2414  showa: history japan, known japan comic showa-...   \n",
       "3179  arts, idealism encourages imagination attempts...   \n",
       "3159  forensic art art used law enforcement legal pr...   \n",
       "\n",
       "                                                 text13  \n",
       "1855  medical tourism refers people traveling abroad...  \n",
       "4399  natural science one branches science concerned...  \n",
       "2414  showa history japan known japan comic showashi...  \n",
       "3179  arts idealism encourages imagination attempts ...  \n",
       "3159  forensic art art used law enforcement legal pr...  "
      ]
     },
     "execution_count": 39,
     "metadata": {},
     "output_type": "execute_result"
    }
   ],
   "source": [
    "def remove_punctuation(text):\n",
    "    \"\"\"custom function to remove the punctuation\"\"\"\n",
    "    return text.translate(str.maketrans('', '', punc_to_remove))\n",
    "\n",
    "train_X['text13'] = train_X['text12'].apply(lambda text: remove_punctuation(text))\n",
    "train_X.head()"
   ]
  },
  {
   "cell_type": "code",
   "execution_count": 40,
   "id": "cdefb107",
   "metadata": {},
   "outputs": [
    {
     "data": {
      "text/html": [
       "<div>\n",
       "<style scoped>\n",
       "    .dataframe tbody tr th:only-of-type {\n",
       "        vertical-align: middle;\n",
       "    }\n",
       "\n",
       "    .dataframe tbody tr th {\n",
       "        vertical-align: top;\n",
       "    }\n",
       "\n",
       "    .dataframe thead th {\n",
       "        text-align: right;\n",
       "    }\n",
       "</style>\n",
       "<table border=\"1\" class=\"dataframe\">\n",
       "  <thead>\n",
       "    <tr style=\"text-align: right;\">\n",
       "      <th></th>\n",
       "      <th>Page Text</th>\n",
       "      <th>text</th>\n",
       "      <th>text11</th>\n",
       "      <th>text12</th>\n",
       "      <th>text13</th>\n",
       "      <th>textstemmed</th>\n",
       "    </tr>\n",
       "  </thead>\n",
       "  <tbody>\n",
       "    <tr>\n",
       "      <th>1855</th>\n",
       "      <td>Medical tourism refers to people traveling abr...</td>\n",
       "      <td>medical tourism refers to people traveling abr...</td>\n",
       "      <td>medical tourism refers people traveling abroad...</td>\n",
       "      <td>medical tourism refers people traveling abroad...</td>\n",
       "      <td>medical tourism refers people traveling abroad...</td>\n",
       "      <td>medic tourism refer peopl travel abroad obtain...</td>\n",
       "    </tr>\n",
       "    <tr>\n",
       "      <th>4399</th>\n",
       "      <td>Natural science is one of the branches of scie...</td>\n",
       "      <td>natural science is one of the branches of scie...</td>\n",
       "      <td>natural science one branches science concerned...</td>\n",
       "      <td>natural science one branches science concerned...</td>\n",
       "      <td>natural science one branches science concerned...</td>\n",
       "      <td>natur scienc one branch scienc concern descrip...</td>\n",
       "    </tr>\n",
       "    <tr>\n",
       "      <th>2414</th>\n",
       "      <td>Showa: A History of Japan, known in Japan as C...</td>\n",
       "      <td>showa: a history of japan, known in japan as c...</td>\n",
       "      <td>showa: history japan, known japan comic showa-...</td>\n",
       "      <td>showa: history japan, known japan comic showa-...</td>\n",
       "      <td>showa history japan known japan comic showashi...</td>\n",
       "      <td>showa histori japan known japan comic showashi...</td>\n",
       "    </tr>\n",
       "    <tr>\n",
       "      <th>3179</th>\n",
       "      <td>In the arts, Idealism encourages imagination a...</td>\n",
       "      <td>in the arts, idealism encourages imagination a...</td>\n",
       "      <td>arts, idealism encourages imagination attempts...</td>\n",
       "      <td>arts, idealism encourages imagination attempts...</td>\n",
       "      <td>arts idealism encourages imagination attempts ...</td>\n",
       "      <td>art ideal encourag imagin attempt realiz menta...</td>\n",
       "    </tr>\n",
       "    <tr>\n",
       "      <th>3159</th>\n",
       "      <td>Forensic art is any art used in law enforcemen...</td>\n",
       "      <td>forensic art is any art used in law enforcemen...</td>\n",
       "      <td>forensic art art used law enforcement legal pr...</td>\n",
       "      <td>forensic art art used law enforcement legal pr...</td>\n",
       "      <td>forensic art art used law enforcement legal pr...</td>\n",
       "      <td>forens art art use law enforc legal proceed fo...</td>\n",
       "    </tr>\n",
       "  </tbody>\n",
       "</table>\n",
       "</div>"
      ],
      "text/plain": [
       "                                              Page Text  \\\n",
       "1855  Medical tourism refers to people traveling abr...   \n",
       "4399  Natural science is one of the branches of scie...   \n",
       "2414  Showa: A History of Japan, known in Japan as C...   \n",
       "3179  In the arts, Idealism encourages imagination a...   \n",
       "3159  Forensic art is any art used in law enforcemen...   \n",
       "\n",
       "                                                   text  \\\n",
       "1855  medical tourism refers to people traveling abr...   \n",
       "4399  natural science is one of the branches of scie...   \n",
       "2414  showa: a history of japan, known in japan as c...   \n",
       "3179  in the arts, idealism encourages imagination a...   \n",
       "3159  forensic art is any art used in law enforcemen...   \n",
       "\n",
       "                                                 text11  \\\n",
       "1855  medical tourism refers people traveling abroad...   \n",
       "4399  natural science one branches science concerned...   \n",
       "2414  showa: history japan, known japan comic showa-...   \n",
       "3179  arts, idealism encourages imagination attempts...   \n",
       "3159  forensic art art used law enforcement legal pr...   \n",
       "\n",
       "                                                 text12  \\\n",
       "1855  medical tourism refers people traveling abroad...   \n",
       "4399  natural science one branches science concerned...   \n",
       "2414  showa: history japan, known japan comic showa-...   \n",
       "3179  arts, idealism encourages imagination attempts...   \n",
       "3159  forensic art art used law enforcement legal pr...   \n",
       "\n",
       "                                                 text13  \\\n",
       "1855  medical tourism refers people traveling abroad...   \n",
       "4399  natural science one branches science concerned...   \n",
       "2414  showa history japan known japan comic showashi...   \n",
       "3179  arts idealism encourages imagination attempts ...   \n",
       "3159  forensic art art used law enforcement legal pr...   \n",
       "\n",
       "                                            textstemmed  \n",
       "1855  medic tourism refer peopl travel abroad obtain...  \n",
       "4399  natur scienc one branch scienc concern descrip...  \n",
       "2414  showa histori japan known japan comic showashi...  \n",
       "3179  art ideal encourag imagin attempt realiz menta...  \n",
       "3159  forens art art use law enforc legal proceed fo...  "
      ]
     },
     "execution_count": 40,
     "metadata": {},
     "output_type": "execute_result"
    }
   ],
   "source": [
    "from nltk.stem.snowball import SnowballStemmer\n",
    "stemmer = SnowballStemmer('english')\n",
    "\n",
    "def stem_words(text):\n",
    "    return \" \".join([stemmer.stem(word) for word in text.split()])\n",
    "\n",
    "train_X[\"textstemmed\"] = train_X[\"text13\"].apply(lambda text: stem_words(text))\n",
    "train_X.head()"
   ]
  },
  {
   "cell_type": "code",
   "execution_count": 41,
   "id": "746eaea5",
   "metadata": {},
   "outputs": [
    {
     "name": "stderr",
     "output_type": "stream",
     "text": [
      "[nltk_data] Downloading package wordnet to\n",
      "[nltk_data]     C:\\Users\\vedan\\AppData\\Roaming\\nltk_data...\n",
      "[nltk_data]   Package wordnet is already up-to-date!\n"
     ]
    },
    {
     "data": {
      "text/html": [
       "<div>\n",
       "<style scoped>\n",
       "    .dataframe tbody tr th:only-of-type {\n",
       "        vertical-align: middle;\n",
       "    }\n",
       "\n",
       "    .dataframe tbody tr th {\n",
       "        vertical-align: top;\n",
       "    }\n",
       "\n",
       "    .dataframe thead th {\n",
       "        text-align: right;\n",
       "    }\n",
       "</style>\n",
       "<table border=\"1\" class=\"dataframe\">\n",
       "  <thead>\n",
       "    <tr style=\"text-align: right;\">\n",
       "      <th></th>\n",
       "      <th>Page Text</th>\n",
       "      <th>text</th>\n",
       "      <th>text11</th>\n",
       "      <th>text12</th>\n",
       "      <th>text13</th>\n",
       "      <th>textstemmed</th>\n",
       "      <th>text_lemmatized</th>\n",
       "    </tr>\n",
       "  </thead>\n",
       "  <tbody>\n",
       "    <tr>\n",
       "      <th>1855</th>\n",
       "      <td>Medical tourism refers to people traveling abr...</td>\n",
       "      <td>medical tourism refers to people traveling abr...</td>\n",
       "      <td>medical tourism refers people traveling abroad...</td>\n",
       "      <td>medical tourism refers people traveling abroad...</td>\n",
       "      <td>medical tourism refers people traveling abroad...</td>\n",
       "      <td>medic tourism refer peopl travel abroad obtain...</td>\n",
       "      <td>medic tourism refer peopl travel abroad obtain...</td>\n",
       "    </tr>\n",
       "    <tr>\n",
       "      <th>4399</th>\n",
       "      <td>Natural science is one of the branches of scie...</td>\n",
       "      <td>natural science is one of the branches of scie...</td>\n",
       "      <td>natural science one branches science concerned...</td>\n",
       "      <td>natural science one branches science concerned...</td>\n",
       "      <td>natural science one branches science concerned...</td>\n",
       "      <td>natur scienc one branch scienc concern descrip...</td>\n",
       "      <td>natur scienc one branch scienc concern descrip...</td>\n",
       "    </tr>\n",
       "    <tr>\n",
       "      <th>2414</th>\n",
       "      <td>Showa: A History of Japan, known in Japan as C...</td>\n",
       "      <td>showa: a history of japan, known in japan as c...</td>\n",
       "      <td>showa: history japan, known japan comic showa-...</td>\n",
       "      <td>showa: history japan, known japan comic showa-...</td>\n",
       "      <td>showa history japan known japan comic showashi...</td>\n",
       "      <td>showa histori japan known japan comic showashi...</td>\n",
       "      <td>showa histori japan known japan comic showashi...</td>\n",
       "    </tr>\n",
       "    <tr>\n",
       "      <th>3179</th>\n",
       "      <td>In the arts, Idealism encourages imagination a...</td>\n",
       "      <td>in the arts, idealism encourages imagination a...</td>\n",
       "      <td>arts, idealism encourages imagination attempts...</td>\n",
       "      <td>arts, idealism encourages imagination attempts...</td>\n",
       "      <td>arts idealism encourages imagination attempts ...</td>\n",
       "      <td>art ideal encourag imagin attempt realiz menta...</td>\n",
       "      <td>art ideal encourag imagin attempt realiz menta...</td>\n",
       "    </tr>\n",
       "    <tr>\n",
       "      <th>3159</th>\n",
       "      <td>Forensic art is any art used in law enforcemen...</td>\n",
       "      <td>forensic art is any art used in law enforcemen...</td>\n",
       "      <td>forensic art art used law enforcement legal pr...</td>\n",
       "      <td>forensic art art used law enforcement legal pr...</td>\n",
       "      <td>forensic art art used law enforcement legal pr...</td>\n",
       "      <td>forens art art use law enforc legal proceed fo...</td>\n",
       "      <td>forens art art use law enforc legal proceed fo...</td>\n",
       "    </tr>\n",
       "  </tbody>\n",
       "</table>\n",
       "</div>"
      ],
      "text/plain": [
       "                                              Page Text  \\\n",
       "1855  Medical tourism refers to people traveling abr...   \n",
       "4399  Natural science is one of the branches of scie...   \n",
       "2414  Showa: A History of Japan, known in Japan as C...   \n",
       "3179  In the arts, Idealism encourages imagination a...   \n",
       "3159  Forensic art is any art used in law enforcemen...   \n",
       "\n",
       "                                                   text  \\\n",
       "1855  medical tourism refers to people traveling abr...   \n",
       "4399  natural science is one of the branches of scie...   \n",
       "2414  showa: a history of japan, known in japan as c...   \n",
       "3179  in the arts, idealism encourages imagination a...   \n",
       "3159  forensic art is any art used in law enforcemen...   \n",
       "\n",
       "                                                 text11  \\\n",
       "1855  medical tourism refers people traveling abroad...   \n",
       "4399  natural science one branches science concerned...   \n",
       "2414  showa: history japan, known japan comic showa-...   \n",
       "3179  arts, idealism encourages imagination attempts...   \n",
       "3159  forensic art art used law enforcement legal pr...   \n",
       "\n",
       "                                                 text12  \\\n",
       "1855  medical tourism refers people traveling abroad...   \n",
       "4399  natural science one branches science concerned...   \n",
       "2414  showa: history japan, known japan comic showa-...   \n",
       "3179  arts, idealism encourages imagination attempts...   \n",
       "3159  forensic art art used law enforcement legal pr...   \n",
       "\n",
       "                                                 text13  \\\n",
       "1855  medical tourism refers people traveling abroad...   \n",
       "4399  natural science one branches science concerned...   \n",
       "2414  showa history japan known japan comic showashi...   \n",
       "3179  arts idealism encourages imagination attempts ...   \n",
       "3159  forensic art art used law enforcement legal pr...   \n",
       "\n",
       "                                            textstemmed  \\\n",
       "1855  medic tourism refer peopl travel abroad obtain...   \n",
       "4399  natur scienc one branch scienc concern descrip...   \n",
       "2414  showa histori japan known japan comic showashi...   \n",
       "3179  art ideal encourag imagin attempt realiz menta...   \n",
       "3159  forens art art use law enforc legal proceed fo...   \n",
       "\n",
       "                                        text_lemmatized  \n",
       "1855  medic tourism refer peopl travel abroad obtain...  \n",
       "4399  natur scienc one branch scienc concern descrip...  \n",
       "2414  showa histori japan known japan comic showashi...  \n",
       "3179  art ideal encourag imagin attempt realiz menta...  \n",
       "3159  forens art art use law enforc legal proceed fo...  "
      ]
     },
     "execution_count": 41,
     "metadata": {},
     "output_type": "execute_result"
    }
   ],
   "source": [
    "from nltk.stem import WordNetLemmatizer\n",
    "nltk.download('wordnet')\n",
    "lemmatizer = WordNetLemmatizer()\n",
    "def lemmatize_words(text):\n",
    "    return \" \".join([lemmatizer.lemmatize(word) for word in text.split()])\n",
    "\n",
    "train_X[\"text_lemmatized\"] = train_X[\"textstemmed\"].apply(lambda text: lemmatize_words(text))\n",
    "train_X.head()"
   ]
  },
  {
   "cell_type": "code",
   "execution_count": 42,
   "id": "04cca7a3",
   "metadata": {},
   "outputs": [],
   "source": [
    "train_X.drop(['Page Text', 'text', 'text11', 'text12', 'text13','textstemmed'], axis=1, inplace=True)"
   ]
  },
  {
   "cell_type": "code",
   "execution_count": 43,
   "id": "cfc818c4",
   "metadata": {},
   "outputs": [
    {
     "data": {
      "text/html": [
       "<div>\n",
       "<style scoped>\n",
       "    .dataframe tbody tr th:only-of-type {\n",
       "        vertical-align: middle;\n",
       "    }\n",
       "\n",
       "    .dataframe tbody tr th {\n",
       "        vertical-align: top;\n",
       "    }\n",
       "\n",
       "    .dataframe thead th {\n",
       "        text-align: right;\n",
       "    }\n",
       "</style>\n",
       "<table border=\"1\" class=\"dataframe\">\n",
       "  <thead>\n",
       "    <tr style=\"text-align: right;\">\n",
       "      <th></th>\n",
       "      <th>text_lemmatized</th>\n",
       "      <th>Category</th>\n",
       "    </tr>\n",
       "  </thead>\n",
       "  <tbody>\n",
       "    <tr>\n",
       "      <th>1855</th>\n",
       "      <td>medic tourism refer peopl travel abroad obtain...</td>\n",
       "      <td>3</td>\n",
       "    </tr>\n",
       "    <tr>\n",
       "      <th>4399</th>\n",
       "      <td>natur scienc one branch scienc concern descrip...</td>\n",
       "      <td>1</td>\n",
       "    </tr>\n",
       "    <tr>\n",
       "      <th>2414</th>\n",
       "      <td>showa histori japan known japan comic showashi...</td>\n",
       "      <td>4</td>\n",
       "    </tr>\n",
       "    <tr>\n",
       "      <th>3179</th>\n",
       "      <td>art ideal encourag imagin attempt realiz menta...</td>\n",
       "      <td>0</td>\n",
       "    </tr>\n",
       "    <tr>\n",
       "      <th>3159</th>\n",
       "      <td>forens art art use law enforc legal proceed fo...</td>\n",
       "      <td>0</td>\n",
       "    </tr>\n",
       "  </tbody>\n",
       "</table>\n",
       "</div>"
      ],
      "text/plain": [
       "                                        text_lemmatized  Category\n",
       "1855  medic tourism refer peopl travel abroad obtain...         3\n",
       "4399  natur scienc one branch scienc concern descrip...         1\n",
       "2414  showa histori japan known japan comic showashi...         4\n",
       "3179  art ideal encourag imagin attempt realiz menta...         0\n",
       "3159  forens art art use law enforc legal proceed fo...         0"
      ]
     },
     "execution_count": 43,
     "metadata": {},
     "output_type": "execute_result"
    }
   ],
   "source": [
    "train = train_X.join(train_y)\n",
    "train.head()"
   ]
  },
  {
   "cell_type": "code",
   "execution_count": 44,
   "id": "fd9b151b",
   "metadata": {},
   "outputs": [
    {
     "data": {
      "text/plain": [
       "<AxesSubplot:ylabel='Category'>"
      ]
     },
     "execution_count": 44,
     "metadata": {},
     "output_type": "execute_result"
    },
    {
     "data": {
      "image/png": "[encoded data removed]",
      "text/plain": [
       "<Figure size 576x288 with 1 Axes>"
      ]
     },
     "metadata": {
      "needs_background": "light"
     },
     "output_type": "display_data"
    }
   ],
   "source": [
    "plt.figure(figsize=(8,4))\n",
    "sns.barplot(train['Category'].value_counts().index, train['Category'].value_counts())"
   ]
  },
  {
   "cell_type": "code",
   "execution_count": 45,
   "id": "83bee197",
   "metadata": {},
   "outputs": [],
   "source": [
    "from sklearn.feature_extraction.text import CountVectorizer\n",
    "bow = CountVectorizer(max_features=3500)"
   ]
  },
  {
   "cell_type": "code",
   "execution_count": 46,
   "id": "a525c253",
   "metadata": {},
   "outputs": [
    {
     "data": {
      "text/plain": [
       "array([[1, 0, 0, ..., 2, 0, 0],\n",
       "       [0, 0, 0, ..., 0, 0, 0],\n",
       "       [0, 0, 0, ..., 0, 0, 0],\n",
       "       ...,\n",
       "       [3, 3, 2, ..., 5, 0, 0],\n",
       "       [0, 0, 0, ..., 0, 0, 0],\n",
       "       [1, 0, 0, ..., 0, 0, 0]], dtype=int64)"
      ]
     },
     "execution_count": 46,
     "metadata": {},
     "output_type": "execute_result"
    }
   ],
   "source": [
    "train_vector = bow.fit_transform(train_X['text_lemmatized']).toarray()\n",
    "train_vector"
   ]
  },
  {
   "cell_type": "code",
   "execution_count": 47,
   "id": "3895084e",
   "metadata": {},
   "outputs": [],
   "source": [
    "def preprocessing(df):\n",
    "    df['msg_lower'] = df['Page Text'].str.lower()\n",
    "    df[\"msg_wo_url\"] = df[\"msg_lower\"].apply(lambda text: remove_urls(text))\n",
    "    df['msg_wo_stopword'] = df['msg_wo_url'].apply(lambda text :remove_stopwords(text))\n",
    "    df['msg_wo_punc'] = df['msg_wo_stopword'].apply(lambda text: remove_punctuation(text))\n",
    "    df[\"text_lemmatized\"] = df[\"msg_wo_punc\"].apply(lambda text: lemmatize_words(text))\n",
    "    df.drop(['Page Text', 'msg_lower', 'msg_wo_url', 'msg_wo_stopword', 'msg_wo_punc'], axis=1, inplace=True)\n",
    "    return df"
   ]
  },
  {
   "cell_type": "code",
   "execution_count": 48,
   "id": "d6093a7d",
   "metadata": {
    "scrolled": true
   },
   "outputs": [
    {
     "name": "stdout",
     "output_type": "stream",
     "text": [
      "(600, 1)\n"
     ]
    },
    {
     "data": {
      "text/plain": [
       "array([[2, 4, 1, ..., 0, 0, 0],\n",
       "       [0, 0, 0, ..., 0, 0, 0],\n",
       "       [0, 0, 0, ..., 0, 0, 0],\n",
       "       ...,\n",
       "       [3, 2, 1, ..., 0, 0, 1],\n",
       "       [0, 0, 0, ..., 1, 0, 0],\n",
       "       [2, 0, 0, ..., 0, 0, 4]], dtype=int64)"
      ]
     },
     "execution_count": 48,
     "metadata": {},
     "output_type": "execute_result"
    }
   ],
   "source": [
    "val_X = preprocessing(val_X)\n",
    "print(val_X.shape)\n",
    "val_vector = bow.transform(val_X['text_lemmatized']).toarray()\n",
    "val_vector"
   ]
  },
  {
   "cell_type": "code",
   "execution_count": 49,
   "id": "d41fc05e",
   "metadata": {},
   "outputs": [
    {
     "name": "stdout",
     "output_type": "stream",
     "text": [
      "(1000, 1)\n"
     ]
    },
    {
     "data": {
      "text/plain": [
       "array([[7, 0, 4, ..., 0, 0, 0],\n",
       "       [1, 0, 0, ..., 0, 0, 0],\n",
       "       [1, 3, 0, ..., 0, 0, 2],\n",
       "       ...,\n",
       "       [0, 0, 0, ..., 0, 0, 0],\n",
       "       [0, 0, 0, ..., 0, 0, 0],\n",
       "       [0, 2, 0, ..., 0, 0, 0]], dtype=int64)"
      ]
     },
     "execution_count": 49,
     "metadata": {},
     "output_type": "execute_result"
    }
   ],
   "source": [
    "text_X= preprocessing(test_X)\n",
    "print(test_X.shape)\n",
    "test_vector = bow.transform(test_X['text_lemmatized']).toarray()\n",
    "test_vector"
   ]
  },
  {
   "cell_type": "code",
   "execution_count": 50,
   "id": "f2188ea8",
   "metadata": {},
   "outputs": [],
   "source": [
    "from sklearn.naive_bayes import MultinomialNB\n",
    "\n",
    "nb = MultinomialNB().fit(train_vector,train_y)"
   ]
  },
  {
   "cell_type": "code",
   "execution_count": 51,
   "id": "a2ee81f5",
   "metadata": {},
   "outputs": [
    {
     "name": "stdout",
     "output_type": "stream",
     "text": [
      "accuracy is  0.7883333333333333\n"
     ]
    },
    {
     "data": {
      "text/plain": [
       "<AxesSubplot:>"
      ]
     },
     "execution_count": 51,
     "metadata": {},
     "output_type": "execute_result"
    },
    {
     "data": {
      "image/png": "[encoded data removed]",
      "text/plain": [
       "<Figure size 432x288 with 2 Axes>"
      ]
     },
     "metadata": {
      "needs_background": "light"
     },
     "output_type": "display_data"
    }
   ],
   "source": [
    "import seaborn as sns\n",
    "from sklearn.metrics import precision_score, recall_score\n",
    "from sklearn.metrics import accuracy_score\n",
    "from sklearn.metrics import f1_score\n",
    "from sklearn.metrics import confusion_matrix\n",
    "\n",
    "\n",
    "val_pred_nb = nb.predict(val_vector)\n",
    "print (\"accuracy is \"  ,accuracy_score(val_y,val_pred_nb))\n",
    "cm=confusion_matrix(val_y,val_pred_nb)\n",
    "sns.heatmap(cm,cmap='BuPu',annot=True,fmt='d')\n",
    "\n",
    "\n"
   ]
  },
  {
   "cell_type": "code",
   "execution_count": 52,
   "id": "f0e09d17",
   "metadata": {},
   "outputs": [
    {
     "name": "stdout",
     "output_type": "stream",
     "text": [
      "accuracy is  0.75\n",
      "recall is  [0.88 0.68 0.72 0.78 0.69 0.79 0.62 0.95 0.52 0.87]\n",
      "precision is  [0.55345912 0.86075949 0.85714286 0.74285714 0.6        0.88764045\n",
      " 0.83783784 0.77868852 0.7027027  0.87878788]\n"
     ]
    },
    {
     "data": {
      "image/png": "[encoded data removed]",
      "text/plain": [
       "<Figure size 432x288 with 2 Axes>"
      ]
     },
     "metadata": {
      "needs_background": "light"
     },
     "output_type": "display_data"
    }
   ],
   "source": [
    "test_pred_nb = nb.predict(test_vector)\n",
    "print (\"accuracy is \" ,accuracy_score(test_y,test_pred_nb))\n",
    "\n",
    "\n",
    "cm = confusion_matrix(test_y,test_pred_nb)\n",
    "sns.heatmap(cm,cmap='BuPu',annot=True,fmt='d')\n",
    "recalls = np.diag(cm) / np.sum(cm, axis = 1)\n",
    "print (\"recall is \" ,recalls)\n",
    "precision = np.diag(cm) / np.sum(cm, axis = 0)\n",
    "print (\"precision is \" ,precision)"
   ]
  },
  {
   "cell_type": "code",
   "execution_count": 53,
   "id": "b2fdf37a",
   "metadata": {},
   "outputs": [],
   "source": [
    "from sklearn.ensemble import RandomForestClassifier\n",
    "\n",
    "rfc = RandomForestClassifier(random_state=0).fit(train_vector,train_y)"
   ]
  },
  {
   "cell_type": "code",
   "execution_count": 54,
   "id": "870b221c",
   "metadata": {},
   "outputs": [
    {
     "name": "stdout",
     "output_type": "stream",
     "text": [
      "accuracy is  0.7766666666666666\n"
     ]
    },
    {
     "data": {
      "text/plain": [
       "<AxesSubplot:>"
      ]
     },
     "execution_count": 54,
     "metadata": {},
     "output_type": "execute_result"
    },
    {
     "data": {
      "image/png": "[encoded data removed]",
      "text/plain": [
       "<Figure size 432x288 with 2 Axes>"
      ]
     },
     "metadata": {
      "needs_background": "light"
     },
     "output_type": "display_data"
    }
   ],
   "source": [
    "val_pred_rfc = rfc.predict(val_vector)\n",
    "print (\"accuracy is \" ,accuracy_score(val_y,val_pred_rfc))\n",
    "cm=confusion_matrix(val_y,val_pred_rfc)\n",
    "sns.heatmap(cm,cmap='BuPu',annot=True,fmt='d')\n",
    "\n"
   ]
  },
  {
   "cell_type": "code",
   "execution_count": 55,
   "id": "4db4ab8e",
   "metadata": {},
   "outputs": [
    {
     "name": "stdout",
     "output_type": "stream",
     "text": [
      "accuracy is  0.732\n",
      "recall is  [0.91 0.84 0.73 0.98 0.51 0.79 0.54 0.97 0.1  0.95]\n",
      "precision is  [0.52906977 0.75675676 0.79347826 0.63636364 0.70833333 0.89772727\n",
      " 0.85714286 0.8220339  0.76923077 0.81196581]\n"
     ]
    },
    {
     "data": {
      "image/png": "[encoded data removed]",
      "text/plain": [
       "<Figure size 432x288 with 2 Axes>"
      ]
     },
     "metadata": {
      "needs_background": "light"
     },
     "output_type": "display_data"
    }
   ],
   "source": [
    "test_pred_rfc = rfc.predict(test_vector)\n",
    "print (\"accuracy is \" ,accuracy_score(test_y,test_pred_rfc))\n",
    "cm = confusion_matrix(test_y,test_pred_rfc)\n",
    "sns.heatmap(cm,cmap='BuPu',annot=True,fmt='d')\n",
    "recalls = np.diag(cm) / np.sum(cm, axis = 1)\n",
    "print (\"recall is \" ,recalls)\n",
    "precision = np.diag(cm) / np.sum(cm, axis = 0)\n",
    "print (\"precision is \" ,precision)"
   ]
  },
  {
   "cell_type": "code",
   "execution_count": 56,
   "id": "2d932a9b",
   "metadata": {},
   "outputs": [],
   "source": [
    "from sklearn.linear_model import LogisticRegression\n",
    "\n",
    "lrc = LogisticRegression().fit(train_vector,train_y)"
   ]
  },
  {
   "cell_type": "code",
   "execution_count": 57,
   "id": "c6de4274",
   "metadata": {},
   "outputs": [
    {
     "name": "stdout",
     "output_type": "stream",
     "text": [
      "accuracy is  0.7883333333333333\n"
     ]
    },
    {
     "data": {
      "text/plain": [
       "<AxesSubplot:>"
      ]
     },
     "execution_count": 57,
     "metadata": {},
     "output_type": "execute_result"
    },
    {
     "data": {
      "image/png": "[encoded data removed]",
      "text/plain": [
       "<Figure size 432x288 with 2 Axes>"
      ]
     },
     "metadata": {
      "needs_background": "light"
     },
     "output_type": "display_data"
    }
   ],
   "source": [
    "val_pred_lrc = lrc.predict(val_vector)\n",
    "print (\"accuracy is \" ,accuracy_score(val_y,val_pred_nb))\n",
    "cm=confusion_matrix(val_y,val_pred_lrc)\n",
    "sns.heatmap(cm,cmap='BuPu',annot=True,fmt='d')\n"
   ]
  },
  {
   "cell_type": "code",
   "execution_count": 58,
   "id": "4ddb66c7",
   "metadata": {},
   "outputs": [
    {
     "name": "stdout",
     "output_type": "stream",
     "text": [
      "accuracy is  0.697\n",
      "recall is  [0.96 0.59 0.75 0.94 0.54 0.68 0.48 0.99 0.08 0.96]\n",
      "precision is  [0.60759494 0.67816092 0.67567568 0.70149254 0.65060241 0.64761905\n",
      " 0.76190476 0.7734375  0.8        0.79338843]\n"
     ]
    },
    {
     "data": {
      "image/png": "[encoded data removed]",
      "text/plain": [
       "<Figure size 432x288 with 2 Axes>"
      ]
     },
     "metadata": {
      "needs_background": "light"
     },
     "output_type": "display_data"
    }
   ],
   "source": [
    "test_pred_lrc = lrc.predict(test_vector)\n",
    "print (\"accuracy is \" ,accuracy_score(test_y,test_pred_lrc))\n",
    "\n",
    "cm = confusion_matrix(test_y,test_pred_lrc)\n",
    "sns.heatmap(cm,cmap='BuPu',annot=True,fmt='d')\n",
    "recalls = np.diag(cm) / np.sum(cm, axis = 1)\n",
    "print (\"recall is \" ,recalls)\n",
    "precision = np.diag(cm) / np.sum(cm, axis = 0)\n",
    "print (\"precision is \" ,precision)"
   ]
  },
  {
   "cell_type": "code",
   "execution_count": null,
   "id": "f233b465",
   "metadata": {},
   "outputs": [],
   "source": []
  }
 ],
 "metadata": {
  "kernelspec": {
   "display_name": "Python 3",
   "language": "python",
   "name": "python3"
  },
  "language_info": {
   "codemirror_mode": {
    "name": "ipython",
    "version": 3
   },
   "file_extension": ".py",
   "mimetype": "text/x-python",
   "name": "python",
   "nbconvert_exporter": "python",
   "pygments_lexer": "ipython3",
   "version": "3.8.8"
  }
 },
 "nbformat": 4,
 "nbformat_minor": 5
}
