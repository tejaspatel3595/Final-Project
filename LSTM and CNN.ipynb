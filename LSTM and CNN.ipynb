{
 "cells": [
  {
   "cell_type": "code",
   "execution_count": 1,
   "id": "33f41475",
   "metadata": {},
   "outputs": [],
   "source": [
    "import pandas as pd"
   ]
  },
  {
   "cell_type": "code",
   "execution_count": 2,
   "id": "763f3ba4",
   "metadata": {},
   "outputs": [
    {
     "name": "stdout",
     "output_type": "stream",
     "text": [
      "<class 'pandas.core.frame.DataFrame'>\n",
      "RangeIndex: 5000 entries, 0 to 4999\n",
      "Data columns (total 3 columns):\n",
      " #   Column      Non-Null Count  Dtype \n",
      "---  ------      --------------  ----- \n",
      " 0   Unnamed: 0  5000 non-null   int64 \n",
      " 1   Category    5000 non-null   object\n",
      " 2   Page Text   5000 non-null   object\n",
      "dtypes: int64(1), object(2)\n",
      "memory usage: 117.3+ KB\n"
     ]
    }
   ],
   "source": [
    "df = pd.read_csv('wikidata.csv')\n",
    "df.info()"
   ]
  },
  {
   "cell_type": "code",
   "execution_count": 3,
   "id": "c996be56",
   "metadata": {},
   "outputs": [],
   "source": [
    "df = df.iloc[: , 1:]"
   ]
  },
  {
   "cell_type": "code",
   "execution_count": 4,
   "id": "e456f16b",
   "metadata": {},
   "outputs": [
    {
     "name": "stdout",
     "output_type": "stream",
     "text": [
      "<class 'pandas.core.frame.DataFrame'>\n",
      "RangeIndex: 5000 entries, 0 to 4999\n",
      "Data columns (total 2 columns):\n",
      " #   Column    Non-Null Count  Dtype \n",
      "---  ------    --------------  ----- \n",
      " 0   Category  5000 non-null   object\n",
      " 1   text      5000 non-null   object\n",
      "dtypes: object(2)\n",
      "memory usage: 78.2+ KB\n"
     ]
    }
   ],
   "source": [
    "\n",
    "df.rename(columns = {'Page Text':'text'}, inplace = True)\n",
    "df.info()"
   ]
  },
  {
   "cell_type": "code",
   "execution_count": 5,
   "id": "47290f75",
   "metadata": {},
   "outputs": [
    {
     "data": {
      "text/plain": [
       "Arts           500\n",
       "Geography      500\n",
       "Health         500\n",
       "History        500\n",
       "Biology        500\n",
       "Politics       500\n",
       "Transport      500\n",
       "Mathematics    500\n",
       "Technology     500\n",
       "Sports         500\n",
       "Name: Category, dtype: int64"
      ]
     },
     "execution_count": 5,
     "metadata": {},
     "output_type": "execute_result"
    }
   ],
   "source": [
    "df['Category'].value_counts()"
   ]
  },
  {
   "cell_type": "code",
   "execution_count": 6,
   "id": "26bb5939",
   "metadata": {},
   "outputs": [],
   "source": [
    "train_X= df"
   ]
  },
  {
   "cell_type": "code",
   "execution_count": 7,
   "id": "48430161",
   "metadata": {},
   "outputs": [
    {
     "data": {
      "text/html": [
       "<div>\n",
       "<style scoped>\n",
       "    .dataframe tbody tr th:only-of-type {\n",
       "        vertical-align: middle;\n",
       "    }\n",
       "\n",
       "    .dataframe tbody tr th {\n",
       "        vertical-align: top;\n",
       "    }\n",
       "\n",
       "    .dataframe thead th {\n",
       "        text-align: right;\n",
       "    }\n",
       "</style>\n",
       "<table border=\"1\" class=\"dataframe\">\n",
       "  <thead>\n",
       "    <tr style=\"text-align: right;\">\n",
       "      <th></th>\n",
       "      <th>Category</th>\n",
       "      <th>text</th>\n",
       "    </tr>\n",
       "  </thead>\n",
       "  <tbody>\n",
       "    <tr>\n",
       "      <th>0</th>\n",
       "      <td>Mathematics</td>\n",
       "      <td>mathematics (from ancient greek  μάθημα (máthē...</td>\n",
       "    </tr>\n",
       "    <tr>\n",
       "      <th>1</th>\n",
       "      <td>Mathematics</td>\n",
       "      <td>in mathematics, a function from a set x to a s...</td>\n",
       "    </tr>\n",
       "    <tr>\n",
       "      <th>2</th>\n",
       "      <td>Mathematics</td>\n",
       "      <td>the history of mathematics deals with the orig...</td>\n",
       "    </tr>\n",
       "    <tr>\n",
       "      <th>3</th>\n",
       "      <td>Mathematics</td>\n",
       "      <td>in mathematics, a matrix (plural matrices) is ...</td>\n",
       "    </tr>\n",
       "    <tr>\n",
       "      <th>4</th>\n",
       "      <td>Mathematics</td>\n",
       "      <td>applied mathematics is the application of math...</td>\n",
       "    </tr>\n",
       "  </tbody>\n",
       "</table>\n",
       "</div>"
      ],
      "text/plain": [
       "      Category                                               text\n",
       "0  Mathematics  mathematics (from ancient greek  μάθημα (máthē...\n",
       "1  Mathematics  in mathematics, a function from a set x to a s...\n",
       "2  Mathematics  the history of mathematics deals with the orig...\n",
       "3  Mathematics  in mathematics, a matrix (plural matrices) is ...\n",
       "4  Mathematics  applied mathematics is the application of math..."
      ]
     },
     "execution_count": 7,
     "metadata": {},
     "output_type": "execute_result"
    }
   ],
   "source": [
    "train_X['text'] = train_X['text'].str.lower()\n",
    "train_X.head()"
   ]
  },
  {
   "cell_type": "code",
   "execution_count": 8,
   "id": "d156502f",
   "metadata": {},
   "outputs": [
    {
     "name": "stdout",
     "output_type": "stream",
     "text": [
      "i; me; my; myself; we; our; ours; ourselves; you; you're; you've; you'll; you'd; your; yours; yourself; yourselves; he; him; his; himself; she; she's; her; hers; herself; it; it's; its; itself; they; them; their; theirs; themselves; what; which; who; whom; this; that; that'll; these; those; am; is; are; was; were; be; been; being; have; has; had; having; do; does; did; doing; a; an; the; and; but; if; or; because; as; until; while; of; at; by; for; with; about; against; between; into; through; during; before; after; above; below; to; from; up; down; in; out; on; off; over; under; again; further; then; once; here; there; when; where; why; how; all; any; both; each; few; more; most; other; some; such; no; nor; not; only; own; same; so; than; too; very; s; t; can; will; just; don; don't; should; should've; now; d; ll; m; o; re; ve; y; ain; aren; aren't; couldn; couldn't; didn; didn't; doesn; doesn't; hadn; hadn't; hasn; hasn't; haven; haven't; isn; isn't; ma; mightn; mightn't; mustn; mustn't; needn; needn't; shan; shan't; shouldn; shouldn't; wasn; wasn't; weren; weren't; won; won't; wouldn; wouldn't\n"
     ]
    }
   ],
   "source": [
    "from nltk.corpus import stopwords\n",
    "stopword = set(stopwords.words('english'))\n",
    "print(\"; \".join(stopwords.words('english')))"
   ]
  },
  {
   "cell_type": "code",
   "execution_count": 9,
   "id": "c301f720",
   "metadata": {},
   "outputs": [
    {
     "data": {
      "text/html": [
       "<div>\n",
       "<style scoped>\n",
       "    .dataframe tbody tr th:only-of-type {\n",
       "        vertical-align: middle;\n",
       "    }\n",
       "\n",
       "    .dataframe tbody tr th {\n",
       "        vertical-align: top;\n",
       "    }\n",
       "\n",
       "    .dataframe thead th {\n",
       "        text-align: right;\n",
       "    }\n",
       "</style>\n",
       "<table border=\"1\" class=\"dataframe\">\n",
       "  <thead>\n",
       "    <tr style=\"text-align: right;\">\n",
       "      <th></th>\n",
       "      <th>Category</th>\n",
       "      <th>text</th>\n",
       "      <th>text11</th>\n",
       "    </tr>\n",
       "  </thead>\n",
       "  <tbody>\n",
       "    <tr>\n",
       "      <th>0</th>\n",
       "      <td>Mathematics</td>\n",
       "      <td>mathematics (from ancient greek  μάθημα (máthē...</td>\n",
       "      <td>mathematics (from ancient greek μάθημα (máthēm...</td>\n",
       "    </tr>\n",
       "    <tr>\n",
       "      <th>1</th>\n",
       "      <td>Mathematics</td>\n",
       "      <td>in mathematics, a function from a set x to a s...</td>\n",
       "      <td>mathematics, function set x set assigns elemen...</td>\n",
       "    </tr>\n",
       "    <tr>\n",
       "      <th>2</th>\n",
       "      <td>Mathematics</td>\n",
       "      <td>the history of mathematics deals with the orig...</td>\n",
       "      <td>history mathematics deals origin discoveries m...</td>\n",
       "    </tr>\n",
       "    <tr>\n",
       "      <th>3</th>\n",
       "      <td>Mathematics</td>\n",
       "      <td>in mathematics, a matrix (plural matrices) is ...</td>\n",
       "      <td>mathematics, matrix (plural matrices) rectangu...</td>\n",
       "    </tr>\n",
       "    <tr>\n",
       "      <th>4</th>\n",
       "      <td>Mathematics</td>\n",
       "      <td>applied mathematics is the application of math...</td>\n",
       "      <td>applied mathematics application mathematical m...</td>\n",
       "    </tr>\n",
       "  </tbody>\n",
       "</table>\n",
       "</div>"
      ],
      "text/plain": [
       "      Category                                               text  \\\n",
       "0  Mathematics  mathematics (from ancient greek  μάθημα (máthē...   \n",
       "1  Mathematics  in mathematics, a function from a set x to a s...   \n",
       "2  Mathematics  the history of mathematics deals with the orig...   \n",
       "3  Mathematics  in mathematics, a matrix (plural matrices) is ...   \n",
       "4  Mathematics  applied mathematics is the application of math...   \n",
       "\n",
       "                                              text11  \n",
       "0  mathematics (from ancient greek μάθημα (máthēm...  \n",
       "1  mathematics, function set x set assigns elemen...  \n",
       "2  history mathematics deals origin discoveries m...  \n",
       "3  mathematics, matrix (plural matrices) rectangu...  \n",
       "4  applied mathematics application mathematical m...  "
      ]
     },
     "execution_count": 9,
     "metadata": {},
     "output_type": "execute_result"
    }
   ],
   "source": [
    "def remove_stopwords(text):\n",
    "    return \" \".join([word for word in str(text).split() if word not in stopword])\n",
    "\n",
    "train_X['text11'] = train_X['text'].apply(lambda text :remove_stopwords(text))\n",
    "train_X.head()"
   ]
  },
  {
   "cell_type": "code",
   "execution_count": 10,
   "id": "bc0e7875",
   "metadata": {},
   "outputs": [
    {
     "name": "stdout",
     "output_type": "stream",
     "text": [
      "!\"#$%&'()*+,-./:;<=>?@[\\]^_`{|}~\n"
     ]
    }
   ],
   "source": [
    "import numpy as np \n",
    "import pandas as pd \n",
    "import re\n",
    "import nltk\n",
    "import string\n",
    "punc_to_remove = string.punctuation\n",
    "print(punc_to_remove)"
   ]
  },
  {
   "cell_type": "code",
   "execution_count": 11,
   "id": "c23465d5",
   "metadata": {},
   "outputs": [
    {
     "data": {
      "text/html": [
       "<div>\n",
       "<style scoped>\n",
       "    .dataframe tbody tr th:only-of-type {\n",
       "        vertical-align: middle;\n",
       "    }\n",
       "\n",
       "    .dataframe tbody tr th {\n",
       "        vertical-align: top;\n",
       "    }\n",
       "\n",
       "    .dataframe thead th {\n",
       "        text-align: right;\n",
       "    }\n",
       "</style>\n",
       "<table border=\"1\" class=\"dataframe\">\n",
       "  <thead>\n",
       "    <tr style=\"text-align: right;\">\n",
       "      <th></th>\n",
       "      <th>Category</th>\n",
       "      <th>text</th>\n",
       "      <th>text11</th>\n",
       "      <th>text12</th>\n",
       "    </tr>\n",
       "  </thead>\n",
       "  <tbody>\n",
       "    <tr>\n",
       "      <th>0</th>\n",
       "      <td>Mathematics</td>\n",
       "      <td>mathematics (from ancient greek  μάθημα (máthē...</td>\n",
       "      <td>mathematics (from ancient greek μάθημα (máthēm...</td>\n",
       "      <td>mathematics (from ancient greek μάθημα (máthēm...</td>\n",
       "    </tr>\n",
       "    <tr>\n",
       "      <th>1</th>\n",
       "      <td>Mathematics</td>\n",
       "      <td>in mathematics, a function from a set x to a s...</td>\n",
       "      <td>mathematics, function set x set assigns elemen...</td>\n",
       "      <td>mathematics, function set x set assigns elemen...</td>\n",
       "    </tr>\n",
       "    <tr>\n",
       "      <th>2</th>\n",
       "      <td>Mathematics</td>\n",
       "      <td>the history of mathematics deals with the orig...</td>\n",
       "      <td>history mathematics deals origin discoveries m...</td>\n",
       "      <td>history mathematics deals origin discoveries m...</td>\n",
       "    </tr>\n",
       "    <tr>\n",
       "      <th>3</th>\n",
       "      <td>Mathematics</td>\n",
       "      <td>in mathematics, a matrix (plural matrices) is ...</td>\n",
       "      <td>mathematics, matrix (plural matrices) rectangu...</td>\n",
       "      <td>mathematics, matrix (plural matrices) rectangu...</td>\n",
       "    </tr>\n",
       "    <tr>\n",
       "      <th>4</th>\n",
       "      <td>Mathematics</td>\n",
       "      <td>applied mathematics is the application of math...</td>\n",
       "      <td>applied mathematics application mathematical m...</td>\n",
       "      <td>applied mathematics application mathematical m...</td>\n",
       "    </tr>\n",
       "  </tbody>\n",
       "</table>\n",
       "</div>"
      ],
      "text/plain": [
       "      Category                                               text  \\\n",
       "0  Mathematics  mathematics (from ancient greek  μάθημα (máthē...   \n",
       "1  Mathematics  in mathematics, a function from a set x to a s...   \n",
       "2  Mathematics  the history of mathematics deals with the orig...   \n",
       "3  Mathematics  in mathematics, a matrix (plural matrices) is ...   \n",
       "4  Mathematics  applied mathematics is the application of math...   \n",
       "\n",
       "                                              text11  \\\n",
       "0  mathematics (from ancient greek μάθημα (máthēm...   \n",
       "1  mathematics, function set x set assigns elemen...   \n",
       "2  history mathematics deals origin discoveries m...   \n",
       "3  mathematics, matrix (plural matrices) rectangu...   \n",
       "4  applied mathematics application mathematical m...   \n",
       "\n",
       "                                              text12  \n",
       "0  mathematics (from ancient greek μάθημα (máthēm...  \n",
       "1  mathematics, function set x set assigns elemen...  \n",
       "2  history mathematics deals origin discoveries m...  \n",
       "3  mathematics, matrix (plural matrices) rectangu...  \n",
       "4  applied mathematics application mathematical m...  "
      ]
     },
     "execution_count": 11,
     "metadata": {},
     "output_type": "execute_result"
    }
   ],
   "source": [
    "def remove_urls(text):\n",
    "    url_pattern = re.compile(r'https?://\\S+|www\\.\\S+')\n",
    "    return url_pattern.sub(r'', text)\n",
    "\n",
    "train_X[\"text12\"] = train_X[\"text11\"].apply(lambda text: remove_urls(text))\n",
    "train_X.head()"
   ]
  },
  {
   "cell_type": "code",
   "execution_count": 12,
   "id": "ce0135ed",
   "metadata": {},
   "outputs": [
    {
     "data": {
      "text/html": [
       "<div>\n",
       "<style scoped>\n",
       "    .dataframe tbody tr th:only-of-type {\n",
       "        vertical-align: middle;\n",
       "    }\n",
       "\n",
       "    .dataframe tbody tr th {\n",
       "        vertical-align: top;\n",
       "    }\n",
       "\n",
       "    .dataframe thead th {\n",
       "        text-align: right;\n",
       "    }\n",
       "</style>\n",
       "<table border=\"1\" class=\"dataframe\">\n",
       "  <thead>\n",
       "    <tr style=\"text-align: right;\">\n",
       "      <th></th>\n",
       "      <th>Category</th>\n",
       "      <th>text</th>\n",
       "      <th>text11</th>\n",
       "      <th>text12</th>\n",
       "      <th>text13</th>\n",
       "    </tr>\n",
       "  </thead>\n",
       "  <tbody>\n",
       "    <tr>\n",
       "      <th>0</th>\n",
       "      <td>Mathematics</td>\n",
       "      <td>mathematics (from ancient greek  μάθημα (máthē...</td>\n",
       "      <td>mathematics (from ancient greek μάθημα (máthēm...</td>\n",
       "      <td>mathematics (from ancient greek μάθημα (máthēm...</td>\n",
       "      <td>mathematics from ancient greek μάθημα máthēma ...</td>\n",
       "    </tr>\n",
       "    <tr>\n",
       "      <th>1</th>\n",
       "      <td>Mathematics</td>\n",
       "      <td>in mathematics, a function from a set x to a s...</td>\n",
       "      <td>mathematics, function set x set assigns elemen...</td>\n",
       "      <td>mathematics, function set x set assigns elemen...</td>\n",
       "      <td>mathematics function set x set assigns element...</td>\n",
       "    </tr>\n",
       "    <tr>\n",
       "      <th>2</th>\n",
       "      <td>Mathematics</td>\n",
       "      <td>the history of mathematics deals with the orig...</td>\n",
       "      <td>history mathematics deals origin discoveries m...</td>\n",
       "      <td>history mathematics deals origin discoveries m...</td>\n",
       "      <td>history mathematics deals origin discoveries m...</td>\n",
       "    </tr>\n",
       "    <tr>\n",
       "      <th>3</th>\n",
       "      <td>Mathematics</td>\n",
       "      <td>in mathematics, a matrix (plural matrices) is ...</td>\n",
       "      <td>mathematics, matrix (plural matrices) rectangu...</td>\n",
       "      <td>mathematics, matrix (plural matrices) rectangu...</td>\n",
       "      <td>mathematics matrix plural matrices rectangular...</td>\n",
       "    </tr>\n",
       "    <tr>\n",
       "      <th>4</th>\n",
       "      <td>Mathematics</td>\n",
       "      <td>applied mathematics is the application of math...</td>\n",
       "      <td>applied mathematics application mathematical m...</td>\n",
       "      <td>applied mathematics application mathematical m...</td>\n",
       "      <td>applied mathematics application mathematical m...</td>\n",
       "    </tr>\n",
       "  </tbody>\n",
       "</table>\n",
       "</div>"
      ],
      "text/plain": [
       "      Category                                               text  \\\n",
       "0  Mathematics  mathematics (from ancient greek  μάθημα (máthē...   \n",
       "1  Mathematics  in mathematics, a function from a set x to a s...   \n",
       "2  Mathematics  the history of mathematics deals with the orig...   \n",
       "3  Mathematics  in mathematics, a matrix (plural matrices) is ...   \n",
       "4  Mathematics  applied mathematics is the application of math...   \n",
       "\n",
       "                                              text11  \\\n",
       "0  mathematics (from ancient greek μάθημα (máthēm...   \n",
       "1  mathematics, function set x set assigns elemen...   \n",
       "2  history mathematics deals origin discoveries m...   \n",
       "3  mathematics, matrix (plural matrices) rectangu...   \n",
       "4  applied mathematics application mathematical m...   \n",
       "\n",
       "                                              text12  \\\n",
       "0  mathematics (from ancient greek μάθημα (máthēm...   \n",
       "1  mathematics, function set x set assigns elemen...   \n",
       "2  history mathematics deals origin discoveries m...   \n",
       "3  mathematics, matrix (plural matrices) rectangu...   \n",
       "4  applied mathematics application mathematical m...   \n",
       "\n",
       "                                              text13  \n",
       "0  mathematics from ancient greek μάθημα máthēma ...  \n",
       "1  mathematics function set x set assigns element...  \n",
       "2  history mathematics deals origin discoveries m...  \n",
       "3  mathematics matrix plural matrices rectangular...  \n",
       "4  applied mathematics application mathematical m...  "
      ]
     },
     "execution_count": 12,
     "metadata": {},
     "output_type": "execute_result"
    }
   ],
   "source": [
    "def remove_punctuation(text):\n",
    "    \"\"\"custom function to remove the punctuation\"\"\"\n",
    "    return text.translate(str.maketrans('', '', punc_to_remove))\n",
    "\n",
    "train_X['text13'] = train_X['text12'].apply(lambda text: remove_punctuation(text))\n",
    "train_X.head()"
   ]
  },
  {
   "cell_type": "code",
   "execution_count": 13,
   "id": "6b8ac056",
   "metadata": {},
   "outputs": [
    {
     "data": {
      "text/html": [
       "<div>\n",
       "<style scoped>\n",
       "    .dataframe tbody tr th:only-of-type {\n",
       "        vertical-align: middle;\n",
       "    }\n",
       "\n",
       "    .dataframe tbody tr th {\n",
       "        vertical-align: top;\n",
       "    }\n",
       "\n",
       "    .dataframe thead th {\n",
       "        text-align: right;\n",
       "    }\n",
       "</style>\n",
       "<table border=\"1\" class=\"dataframe\">\n",
       "  <thead>\n",
       "    <tr style=\"text-align: right;\">\n",
       "      <th></th>\n",
       "      <th>Category</th>\n",
       "      <th>text</th>\n",
       "      <th>text11</th>\n",
       "      <th>text12</th>\n",
       "      <th>text13</th>\n",
       "      <th>textstemmed</th>\n",
       "    </tr>\n",
       "  </thead>\n",
       "  <tbody>\n",
       "    <tr>\n",
       "      <th>0</th>\n",
       "      <td>Mathematics</td>\n",
       "      <td>mathematics (from ancient greek  μάθημα (máthē...</td>\n",
       "      <td>mathematics (from ancient greek μάθημα (máthēm...</td>\n",
       "      <td>mathematics (from ancient greek μάθημα (máthēm...</td>\n",
       "      <td>mathematics from ancient greek μάθημα máthēma ...</td>\n",
       "      <td>mathemat from ancient greek μάθημα máthēma kno...</td>\n",
       "    </tr>\n",
       "    <tr>\n",
       "      <th>1</th>\n",
       "      <td>Mathematics</td>\n",
       "      <td>in mathematics, a function from a set x to a s...</td>\n",
       "      <td>mathematics, function set x set assigns elemen...</td>\n",
       "      <td>mathematics, function set x set assigns elemen...</td>\n",
       "      <td>mathematics function set x set assigns element...</td>\n",
       "      <td>mathemat function set x set assign element x e...</td>\n",
       "    </tr>\n",
       "    <tr>\n",
       "      <th>2</th>\n",
       "      <td>Mathematics</td>\n",
       "      <td>the history of mathematics deals with the orig...</td>\n",
       "      <td>history mathematics deals origin discoveries m...</td>\n",
       "      <td>history mathematics deals origin discoveries m...</td>\n",
       "      <td>history mathematics deals origin discoveries m...</td>\n",
       "      <td>histori mathemat deal origin discoveri mathema...</td>\n",
       "    </tr>\n",
       "    <tr>\n",
       "      <th>3</th>\n",
       "      <td>Mathematics</td>\n",
       "      <td>in mathematics, a matrix (plural matrices) is ...</td>\n",
       "      <td>mathematics, matrix (plural matrices) rectangu...</td>\n",
       "      <td>mathematics, matrix (plural matrices) rectangu...</td>\n",
       "      <td>mathematics matrix plural matrices rectangular...</td>\n",
       "      <td>mathemat matrix plural matric rectangular arra...</td>\n",
       "    </tr>\n",
       "    <tr>\n",
       "      <th>4</th>\n",
       "      <td>Mathematics</td>\n",
       "      <td>applied mathematics is the application of math...</td>\n",
       "      <td>applied mathematics application mathematical m...</td>\n",
       "      <td>applied mathematics application mathematical m...</td>\n",
       "      <td>applied mathematics application mathematical m...</td>\n",
       "      <td>appli mathemat applic mathemat method differ f...</td>\n",
       "    </tr>\n",
       "  </tbody>\n",
       "</table>\n",
       "</div>"
      ],
      "text/plain": [
       "      Category                                               text  \\\n",
       "0  Mathematics  mathematics (from ancient greek  μάθημα (máthē...   \n",
       "1  Mathematics  in mathematics, a function from a set x to a s...   \n",
       "2  Mathematics  the history of mathematics deals with the orig...   \n",
       "3  Mathematics  in mathematics, a matrix (plural matrices) is ...   \n",
       "4  Mathematics  applied mathematics is the application of math...   \n",
       "\n",
       "                                              text11  \\\n",
       "0  mathematics (from ancient greek μάθημα (máthēm...   \n",
       "1  mathematics, function set x set assigns elemen...   \n",
       "2  history mathematics deals origin discoveries m...   \n",
       "3  mathematics, matrix (plural matrices) rectangu...   \n",
       "4  applied mathematics application mathematical m...   \n",
       "\n",
       "                                              text12  \\\n",
       "0  mathematics (from ancient greek μάθημα (máthēm...   \n",
       "1  mathematics, function set x set assigns elemen...   \n",
       "2  history mathematics deals origin discoveries m...   \n",
       "3  mathematics, matrix (plural matrices) rectangu...   \n",
       "4  applied mathematics application mathematical m...   \n",
       "\n",
       "                                              text13  \\\n",
       "0  mathematics from ancient greek μάθημα máthēma ...   \n",
       "1  mathematics function set x set assigns element...   \n",
       "2  history mathematics deals origin discoveries m...   \n",
       "3  mathematics matrix plural matrices rectangular...   \n",
       "4  applied mathematics application mathematical m...   \n",
       "\n",
       "                                         textstemmed  \n",
       "0  mathemat from ancient greek μάθημα máthēma kno...  \n",
       "1  mathemat function set x set assign element x e...  \n",
       "2  histori mathemat deal origin discoveri mathema...  \n",
       "3  mathemat matrix plural matric rectangular arra...  \n",
       "4  appli mathemat applic mathemat method differ f...  "
      ]
     },
     "execution_count": 13,
     "metadata": {},
     "output_type": "execute_result"
    }
   ],
   "source": [
    "from nltk.stem.snowball import SnowballStemmer\n",
    "stemmer = SnowballStemmer('english')\n",
    "\n",
    "def stem_words(text):\n",
    "    return \" \".join([stemmer.stem(word) for word in text.split()])\n",
    "\n",
    "train_X[\"textstemmed\"] = train_X[\"text13\"].apply(lambda text: stem_words(text))\n",
    "train_X.head()"
   ]
  },
  {
   "cell_type": "code",
   "execution_count": 14,
   "id": "cb75ba49",
   "metadata": {},
   "outputs": [
    {
     "data": {
      "text/html": [
       "<div>\n",
       "<style scoped>\n",
       "    .dataframe tbody tr th:only-of-type {\n",
       "        vertical-align: middle;\n",
       "    }\n",
       "\n",
       "    .dataframe tbody tr th {\n",
       "        vertical-align: top;\n",
       "    }\n",
       "\n",
       "    .dataframe thead th {\n",
       "        text-align: right;\n",
       "    }\n",
       "</style>\n",
       "<table border=\"1\" class=\"dataframe\">\n",
       "  <thead>\n",
       "    <tr style=\"text-align: right;\">\n",
       "      <th></th>\n",
       "      <th>Category</th>\n",
       "      <th>text</th>\n",
       "      <th>text11</th>\n",
       "      <th>text12</th>\n",
       "      <th>text13</th>\n",
       "      <th>textstemmed</th>\n",
       "      <th>text_lemmatized</th>\n",
       "    </tr>\n",
       "  </thead>\n",
       "  <tbody>\n",
       "    <tr>\n",
       "      <th>0</th>\n",
       "      <td>Mathematics</td>\n",
       "      <td>mathematics (from ancient greek  μάθημα (máthē...</td>\n",
       "      <td>mathematics (from ancient greek μάθημα (máthēm...</td>\n",
       "      <td>mathematics (from ancient greek μάθημα (máthēm...</td>\n",
       "      <td>mathematics from ancient greek μάθημα máthēma ...</td>\n",
       "      <td>mathemat from ancient greek μάθημα máthēma kno...</td>\n",
       "      <td>mathemat from ancient greek μάθημα máthēma kno...</td>\n",
       "    </tr>\n",
       "    <tr>\n",
       "      <th>1</th>\n",
       "      <td>Mathematics</td>\n",
       "      <td>in mathematics, a function from a set x to a s...</td>\n",
       "      <td>mathematics, function set x set assigns elemen...</td>\n",
       "      <td>mathematics, function set x set assigns elemen...</td>\n",
       "      <td>mathematics function set x set assigns element...</td>\n",
       "      <td>mathemat function set x set assign element x e...</td>\n",
       "      <td>mathemat function set x set assign element x e...</td>\n",
       "    </tr>\n",
       "    <tr>\n",
       "      <th>2</th>\n",
       "      <td>Mathematics</td>\n",
       "      <td>the history of mathematics deals with the orig...</td>\n",
       "      <td>history mathematics deals origin discoveries m...</td>\n",
       "      <td>history mathematics deals origin discoveries m...</td>\n",
       "      <td>history mathematics deals origin discoveries m...</td>\n",
       "      <td>histori mathemat deal origin discoveri mathema...</td>\n",
       "      <td>histori mathemat deal origin discoveri mathema...</td>\n",
       "    </tr>\n",
       "    <tr>\n",
       "      <th>3</th>\n",
       "      <td>Mathematics</td>\n",
       "      <td>in mathematics, a matrix (plural matrices) is ...</td>\n",
       "      <td>mathematics, matrix (plural matrices) rectangu...</td>\n",
       "      <td>mathematics, matrix (plural matrices) rectangu...</td>\n",
       "      <td>mathematics matrix plural matrices rectangular...</td>\n",
       "      <td>mathemat matrix plural matric rectangular arra...</td>\n",
       "      <td>mathemat matrix plural matric rectangular arra...</td>\n",
       "    </tr>\n",
       "    <tr>\n",
       "      <th>4</th>\n",
       "      <td>Mathematics</td>\n",
       "      <td>applied mathematics is the application of math...</td>\n",
       "      <td>applied mathematics application mathematical m...</td>\n",
       "      <td>applied mathematics application mathematical m...</td>\n",
       "      <td>applied mathematics application mathematical m...</td>\n",
       "      <td>appli mathemat applic mathemat method differ f...</td>\n",
       "      <td>appli mathemat applic mathemat method differ f...</td>\n",
       "    </tr>\n",
       "  </tbody>\n",
       "</table>\n",
       "</div>"
      ],
      "text/plain": [
       "      Category                                               text  \\\n",
       "0  Mathematics  mathematics (from ancient greek  μάθημα (máthē...   \n",
       "1  Mathematics  in mathematics, a function from a set x to a s...   \n",
       "2  Mathematics  the history of mathematics deals with the orig...   \n",
       "3  Mathematics  in mathematics, a matrix (plural matrices) is ...   \n",
       "4  Mathematics  applied mathematics is the application of math...   \n",
       "\n",
       "                                              text11  \\\n",
       "0  mathematics (from ancient greek μάθημα (máthēm...   \n",
       "1  mathematics, function set x set assigns elemen...   \n",
       "2  history mathematics deals origin discoveries m...   \n",
       "3  mathematics, matrix (plural matrices) rectangu...   \n",
       "4  applied mathematics application mathematical m...   \n",
       "\n",
       "                                              text12  \\\n",
       "0  mathematics (from ancient greek μάθημα (máthēm...   \n",
       "1  mathematics, function set x set assigns elemen...   \n",
       "2  history mathematics deals origin discoveries m...   \n",
       "3  mathematics, matrix (plural matrices) rectangu...   \n",
       "4  applied mathematics application mathematical m...   \n",
       "\n",
       "                                              text13  \\\n",
       "0  mathematics from ancient greek μάθημα máthēma ...   \n",
       "1  mathematics function set x set assigns element...   \n",
       "2  history mathematics deals origin discoveries m...   \n",
       "3  mathematics matrix plural matrices rectangular...   \n",
       "4  applied mathematics application mathematical m...   \n",
       "\n",
       "                                         textstemmed  \\\n",
       "0  mathemat from ancient greek μάθημα máthēma kno...   \n",
       "1  mathemat function set x set assign element x e...   \n",
       "2  histori mathemat deal origin discoveri mathema...   \n",
       "3  mathemat matrix plural matric rectangular arra...   \n",
       "4  appli mathemat applic mathemat method differ f...   \n",
       "\n",
       "                                     text_lemmatized  \n",
       "0  mathemat from ancient greek μάθημα máthēma kno...  \n",
       "1  mathemat function set x set assign element x e...  \n",
       "2  histori mathemat deal origin discoveri mathema...  \n",
       "3  mathemat matrix plural matric rectangular arra...  \n",
       "4  appli mathemat applic mathemat method differ f...  "
      ]
     },
     "execution_count": 14,
     "metadata": {},
     "output_type": "execute_result"
    }
   ],
   "source": [
    "from nltk.stem import WordNetLemmatizer\n",
    "\n",
    "lemmatizer = WordNetLemmatizer()\n",
    "def lemmatize_words(text):\n",
    "    return \" \".join([lemmatizer.lemmatize(word) for word in text.split()])\n",
    "\n",
    "train_X[\"text_lemmatized\"] = train_X[\"textstemmed\"].apply(lambda text: lemmatize_words(text))\n",
    "train_X.head()"
   ]
  },
  {
   "cell_type": "code",
   "execution_count": 15,
   "id": "f76c44d9",
   "metadata": {},
   "outputs": [],
   "source": [
    "train_X.drop(['text', 'text11', 'text12', 'text13','textstemmed'], axis=1, inplace=True)"
   ]
  },
  {
   "cell_type": "code",
   "execution_count": 16,
   "id": "adc1985c",
   "metadata": {},
   "outputs": [
    {
     "name": "stdout",
     "output_type": "stream",
     "text": [
      "<class 'pandas.core.frame.DataFrame'>\n",
      "RangeIndex: 5000 entries, 0 to 4999\n",
      "Data columns (total 2 columns):\n",
      " #   Column           Non-Null Count  Dtype \n",
      "---  ------           --------------  ----- \n",
      " 0   Category         5000 non-null   object\n",
      " 1   text_lemmatized  5000 non-null   object\n",
      "dtypes: object(2)\n",
      "memory usage: 78.2+ KB\n"
     ]
    }
   ],
   "source": [
    "df=train_X\n",
    "df.info()"
   ]
  },
  {
   "cell_type": "code",
   "execution_count": 17,
   "id": "c445a180",
   "metadata": {},
   "outputs": [],
   "source": [
    "import pandas as pd\n",
    "import numpy as np\n",
    "from tqdm import tqdm\n",
    "from keras.preprocessing.text import Tokenizer\n",
    "tqdm.pandas(desc=\"progress-bar\")\n",
    "from gensim.models import Doc2Vec\n",
    "from sklearn import utils\n",
    "from sklearn.model_selection import train_test_split\n",
    "from keras.preprocessing.sequence import pad_sequences\n",
    "import gensim\n",
    "from sklearn.linear_model import LogisticRegression\n",
    "from gensim.models.doc2vec import TaggedDocument\n",
    "import re\n",
    "import seaborn as sns\n",
    "import matplotlib.pyplot as plt"
   ]
  },
  {
   "cell_type": "code",
   "execution_count": 18,
   "id": "6f85c2ff",
   "metadata": {},
   "outputs": [
    {
     "name": "stdout",
     "output_type": "stream",
     "text": [
      "Found 296515 unique tokens.\n"
     ]
    }
   ],
   "source": [
    "# The maximum number of words to be used. (most frequent)\n",
    "MAX_NB_WORDS = 50000\n",
    "# Max number of words in each \n",
    "MAX_SEQUENCE_LENGTH = 250\n",
    "EMBEDDING_DIM = 100\n",
    "tokenizer = Tokenizer(num_words=MAX_NB_WORDS, filters='!\"#$%&()*+,-./:;<=>?@[\\]^_`{|}~', lower=True)\n",
    "tokenizer.fit_on_texts(df['text_lemmatized'].values)\n",
    "word_index = tokenizer.word_index\n",
    "print('Found %s unique tokens.' % len(word_index))"
   ]
  },
  {
   "cell_type": "code",
   "execution_count": 19,
   "id": "3ba64fa5",
   "metadata": {},
   "outputs": [
    {
     "name": "stdout",
     "output_type": "stream",
     "text": [
      "Shape of data tensor: (5000, 250)\n"
     ]
    }
   ],
   "source": [
    "X = tokenizer.texts_to_sequences(df['text_lemmatized'].values)\n",
    "X = pad_sequences(X, maxlen=MAX_SEQUENCE_LENGTH)\n",
    "print('Shape of data tensor:', X.shape)"
   ]
  },
  {
   "cell_type": "code",
   "execution_count": 20,
   "id": "544c7ccd",
   "metadata": {},
   "outputs": [
    {
     "name": "stdout",
     "output_type": "stream",
     "text": [
      "Shape of label tensor: (5000, 10)\n"
     ]
    }
   ],
   "source": [
    "Y = pd.get_dummies(df['Category']).values\n",
    "print('Shape of label tensor:', Y.shape)"
   ]
  },
  {
   "cell_type": "code",
   "execution_count": 21,
   "id": "d6c07166",
   "metadata": {},
   "outputs": [
    {
     "name": "stdout",
     "output_type": "stream",
     "text": [
      "(4500, 250) (4500, 10)\n",
      "(500, 250) (500, 10)\n"
     ]
    }
   ],
   "source": [
    "X_train, X_test, Y_train, Y_test = train_test_split(X,Y, test_size = 0.10, random_state = 42)\n",
    "print(X_train.shape,Y_train.shape)\n",
    "print(X_test.shape,Y_test.shape)"
   ]
  },
  {
   "cell_type": "code",
   "execution_count": 22,
   "id": "790ee726",
   "metadata": {},
   "outputs": [
    {
     "name": "stdout",
     "output_type": "stream",
     "text": [
      "Epoch 1/5\n",
      "64/64 [==============================] - 58s 788ms/step - loss: 2.0994 - accuracy: 0.2010 - val_loss: 1.9428 - val_accuracy: 0.2400\n",
      "Epoch 2/5\n",
      "64/64 [==============================] - 49s 772ms/step - loss: 1.6957 - accuracy: 0.4010 - val_loss: 1.5679 - val_accuracy: 0.4200\n",
      "Epoch 3/5\n",
      "64/64 [==============================] - 50s 778ms/step - loss: 1.2095 - accuracy: 0.5936 - val_loss: 1.2986 - val_accuracy: 0.5889\n",
      "Epoch 4/5\n",
      "64/64 [==============================] - 51s 791ms/step - loss: 0.8099 - accuracy: 0.7585 - val_loss: 1.1740 - val_accuracy: 0.6556\n",
      "Epoch 5/5\n",
      "64/64 [==============================] - 50s 785ms/step - loss: 0.4732 - accuracy: 0.8657 - val_loss: 1.1638 - val_accuracy: 0.6622\n"
     ]
    }
   ],
   "source": [
    "from keras.models import Sequential\n",
    "from keras.layers import LSTM, Dense, Embedding, SpatialDropout1D\n",
    "from keras.callbacks import ModelCheckpoint, EarlyStopping\n",
    "model = Sequential()\n",
    "MAX_NB_WORDS = 50000\n",
    "# Max number of words in each \n",
    "MAX_SEQUENCE_LENGTH = 250\n",
    "# This is fixed.\n",
    "EMBEDDING_DIM = 100\n",
    "model.add(Embedding(MAX_NB_WORDS, EMBEDDING_DIM, input_length=X.shape[1]))\n",
    "model.add(SpatialDropout1D(0.2))\n",
    "model.add(LSTM(100, dropout=0.2, recurrent_dropout=0.2))\n",
    "model.add(Dense(10, activation='softmax'))\n",
    "model.compile(loss='categorical_crossentropy', optimizer='adam', metrics=['accuracy'])\n",
    "\n",
    "epochs = 5\n",
    "batch_size = 64\n",
    "\n",
    "history = model.fit(X_train, Y_train, epochs=epochs, batch_size=batch_size,validation_split=0.1,callbacks=[EarlyStopping(monitor='val_loss', patience=3, min_delta=0.0001)])\n"
   ]
  },
  {
   "cell_type": "code",
   "execution_count": 23,
   "id": "131b4a66",
   "metadata": {},
   "outputs": [
    {
     "name": "stdout",
     "output_type": "stream",
     "text": [
      "16/16 [==============================] - 1s 61ms/step - loss: 0.9471 - accuracy: 0.7200\n",
      "Test set\n",
      "  Loss: 0.947\n",
      "  Accuracy: 0.720\n"
     ]
    }
   ],
   "source": [
    "accr = model.evaluate(X_test,Y_test)\n",
    "print('Test set\\n  Loss: {:0.3f}\\n  Accuracy: {:0.3f}'.format(accr[0],accr[1]))"
   ]
  },
  {
   "cell_type": "code",
   "execution_count": 24,
   "id": "11eb62e1",
   "metadata": {},
   "outputs": [
    {
     "data": {
      "image/png": "[encoded data removed]",
      "text/plain": [
       "<Figure size 432x288 with 1 Axes>"
      ]
     },
     "metadata": {
      "needs_background": "light"
     },
     "output_type": "display_data"
    }
   ],
   "source": [
    "plt.title('Loss')\n",
    "plt.plot(history.history['loss'], label='train')\n",
    "plt.plot(history.history['val_loss'], label='test')\n",
    "plt.legend()\n",
    "plt.show();"
   ]
  },
  {
   "cell_type": "code",
   "execution_count": 25,
   "id": "853660d1",
   "metadata": {},
   "outputs": [
    {
     "data": {
      "image/png": "[encoded data removed]",
      "text/plain": [
       "<Figure size 432x288 with 1 Axes>"
      ]
     },
     "metadata": {
      "needs_background": "light"
     },
     "output_type": "display_data"
    }
   ],
   "source": [
    "plt.title('Accuracy')\n",
    "plt.plot(history.history['accuracy'], label='train')\n",
    "plt.plot(history.history['val_accuracy'], label='test')\n",
    "plt.legend()\n",
    "plt.show();"
   ]
  },
  {
   "cell_type": "code",
   "execution_count": 26,
   "id": "30d00564",
   "metadata": {},
   "outputs": [],
   "source": [
    "# Building the CNN Model\n",
    "from keras.datasets import imdb\n",
    "from keras.models import Sequential\n",
    "from keras.layers import Dense\n",
    "from keras.layers import Flatten\n",
    "from keras.layers.convolutional import Conv1D\n",
    "from keras.layers.convolutional import MaxPooling1D\n",
    "from keras.layers.embeddings import Embedding\n",
    "from keras.preprocessing import sequence\n",
    "model = Sequential()      # initilaizing the Sequential nature for CNN model\n",
    "# Adding the embedding layer which will take in maximum of 250 words as input and provide a 32 dimensional output of those words which belong in the top_words dictionary\n",
    "model.add(Embedding(50000, 32, input_length=250))\n",
    "model.add(Conv1D(32, 3, padding='same', activation='relu'))\n",
    "model.add(MaxPooling1D())\n",
    "model.add(Flatten())\n",
    "model.add(Dense(250, activation='relu'))\n",
    "model.add(Dense(10, activation='sigmoid'))"
   ]
  },
  {
   "cell_type": "code",
   "execution_count": 27,
   "id": "4603051d",
   "metadata": {},
   "outputs": [
    {
     "name": "stdout",
     "output_type": "stream",
     "text": [
      "Model: \"sequential_1\"\n",
      "_________________________________________________________________\n",
      " Layer (type)                Output Shape              Param #   \n",
      "=================================================================\n",
      " embedding_1 (Embedding)     (None, 250, 32)           1600000   \n",
      "                                                                 \n",
      " conv1d (Conv1D)             (None, 250, 32)           3104      \n",
      "                                                                 \n",
      " max_pooling1d (MaxPooling1D  (None, 125, 32)          0         \n",
      " )                                                               \n",
      "                                                                 \n",
      " flatten (Flatten)           (None, 4000)              0         \n",
      "                                                                 \n",
      " dense_1 (Dense)             (None, 250)               1000250   \n",
      "                                                                 \n",
      " dense_2 (Dense)             (None, 10)                2510      \n",
      "                                                                 \n",
      "=================================================================\n",
      "Total params: 2,605,864\n",
      "Trainable params: 2,605,864\n",
      "Non-trainable params: 0\n",
      "_________________________________________________________________\n"
     ]
    }
   ],
   "source": [
    "model.compile(loss='binary_crossentropy', optimizer='adam', metrics=['accuracy'])\n",
    "model.summary()"
   ]
  },
  {
   "cell_type": "code",
   "execution_count": 28,
   "id": "760d5d58",
   "metadata": {},
   "outputs": [
    {
     "name": "stdout",
     "output_type": "stream",
     "text": [
      "Epoch 1/5\n",
      "64/64 [==============================] - 6s 64ms/step - loss: 0.3467 - accuracy: 0.1452 - val_loss: 0.3131 - val_accuracy: 0.2333\n",
      "Epoch 2/5\n",
      "64/64 [==============================] - 4s 60ms/step - loss: 0.2310 - accuracy: 0.5872 - val_loss: 0.1655 - val_accuracy: 0.6978\n",
      "Epoch 3/5\n",
      "64/64 [==============================] - 4s 60ms/step - loss: 0.0826 - accuracy: 0.9111 - val_loss: 0.0950 - val_accuracy: 0.8467\n",
      "Epoch 4/5\n",
      "64/64 [==============================] - 4s 60ms/step - loss: 0.0245 - accuracy: 0.9800 - val_loss: 0.0980 - val_accuracy: 0.8667\n",
      "Epoch 5/5\n",
      "64/64 [==============================] - 4s 60ms/step - loss: 0.0111 - accuracy: 0.9896 - val_loss: 0.1102 - val_accuracy: 0.8756\n"
     ]
    }
   ],
   "source": [
    "# Fitting the data onto model\n",
    "history = model.fit(X_train, Y_train, epochs=5, batch_size=batch_size,validation_split=0.1)\n"
   ]
  },
  {
   "cell_type": "code",
   "execution_count": 29,
   "id": "1ac839c8",
   "metadata": {},
   "outputs": [
    {
     "name": "stdout",
     "output_type": "stream",
     "text": [
      "16/16 [==============================] - 0s 5ms/step - loss: 0.1122 - accuracy: 0.8520\n",
      "Test set\n",
      "  Loss: 0.112\n",
      "  Accuracy: 0.852\n"
     ]
    }
   ],
   "source": [
    "accr = model.evaluate(X_test,Y_test)\n",
    "print('Test set\\n  Loss: {:0.3f}\\n  Accuracy: {:0.3f}'.format(accr[0],accr[1]))"
   ]
  },
  {
   "cell_type": "code",
   "execution_count": 30,
   "id": "58394e08",
   "metadata": {},
   "outputs": [
    {
     "data": {
      "image/png": "[encoded data removed]",
      "text/plain": [
       "<Figure size 432x288 with 1 Axes>"
      ]
     },
     "metadata": {
      "needs_background": "light"
     },
     "output_type": "display_data"
    }
   ],
   "source": [
    "plt.title('Loss per epoch')\n",
    "plt.plot(history.history['loss'], label='train')\n",
    "plt.plot(history.history['val_loss'], label='test')\n",
    "plt.legend()\n",
    "plt.show();"
   ]
  },
  {
   "cell_type": "code",
   "execution_count": 31,
   "id": "879db34a",
   "metadata": {},
   "outputs": [
    {
     "data": {
      "image/png": "[encoded data removed]",
      "text/plain": [
       "<Figure size 432x288 with 1 Axes>"
      ]
     },
     "metadata": {
      "needs_background": "light"
     },
     "output_type": "display_data"
    }
   ],
   "source": [
    "plt.title('Accuracy per epoch')\n",
    "plt.plot(history.history['accuracy'], label='train')\n",
    "plt.plot(history.history['val_accuracy'], label='test')\n",
    "plt.legend()\n",
    "plt.show();"
   ]
  },
  {
   "cell_type": "code",
   "execution_count": null,
   "id": "a5249610",
   "metadata": {},
   "outputs": [],
   "source": []
  }
 ],
 "metadata": {
  "kernelspec": {
   "display_name": "Python 3",
   "language": "python",
   "name": "python3"
  },
  "language_info": {
   "codemirror_mode": {
    "name": "ipython",
    "version": 3
   },
   "file_extension": ".py",
   "mimetype": "text/x-python",
   "name": "python",
   "nbconvert_exporter": "python",
   "pygments_lexer": "ipython3",
   "version": "3.8.8"
  }
 },
 "nbformat": 4,
 "nbformat_minor": 5
}
